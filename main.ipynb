{
 "cells": [
  {
   "cell_type": "markdown",
   "metadata": {},
   "source": [
    "## Hyperparameter optimisation"
   ]
  },
  {
   "cell_type": "markdown",
   "metadata": {},
   "source": [
    "## Simple Problem"
   ]
  },
  {
   "cell_type": "code",
   "execution_count": 16,
   "metadata": {},
   "outputs": [
    {
     "name": "stderr",
     "output_type": "stream",
     "text": [
      "[I 2023-09-28 10:56:54,602] A new study created in memory with name: no-name-be4d126f-8b96-4246-ae3e-f505c3c62aa1\n",
      "[I 2023-09-28 10:56:54,604] Trial 0 finished with value: 51.0023456298077 and parameters: {'x': -4.0}. Best is trial 0 with value: 51.0023456298077.\n",
      "[I 2023-09-28 10:56:54,606] Trial 1 finished with value: 34.32093663647308 and parameters: {'x': 9.0}. Best is trial 1 with value: 34.32093663647308.\n",
      "[I 2023-09-28 10:56:54,607] Trial 2 finished with value: 3.453677865191427 and parameters: {'x': 5.0}. Best is trial 2 with value: 3.453677865191427.\n",
      "[I 2023-09-28 10:56:54,609] Trial 3 finished with value: 1.3032337867301853 and parameters: {'x': 2.0}. Best is trial 3 with value: 1.3032337867301853.\n",
      "[I 2023-09-28 10:56:54,611] Trial 4 finished with value: 17.152789708268944 and parameters: {'x': -1.0}. Best is trial 3 with value: 1.3032337867301853.\n",
      "[I 2023-09-28 10:56:54,613] Trial 5 finished with value: 8.17049255801184 and parameters: {'x': 6.0}. Best is trial 3 with value: 1.3032337867301853.\n",
      "[I 2023-09-28 10:56:54,617] Trial 6 finished with value: 172.7014574728852 and parameters: {'x': -10.0}. Best is trial 3 with value: 1.3032337867301853.\n",
      "[I 2023-09-28 10:56:54,619] Trial 7 finished with value: 66.28553093698729 and parameters: {'x': -5.0}. Best is trial 3 with value: 1.3032337867301853.\n",
      "[I 2023-09-28 10:56:54,621] Trial 8 finished with value: 26.43597501544853 and parameters: {'x': -2.0}. Best is trial 3 with value: 1.3032337867301853.\n",
      "[I 2023-09-28 10:56:54,623] Trial 9 finished with value: 14.887307250832254 and parameters: {'x': 7.0}. Best is trial 3 with value: 1.3032337867301853.\n",
      "[I 2023-09-28 10:56:54,626] Trial 10 finished with value: 37.71916032262811 and parameters: {'x': -3.0}. Best is trial 3 with value: 1.3032337867301853.\n",
      "[I 2023-09-28 10:56:54,628] Trial 11 finished with value: 0.020048479550599154 and parameters: {'x': 3.0}. Best is trial 11 with value: 0.020048479550599154.\n",
      "[I 2023-09-28 10:56:54,632] Trial 12 finished with value: 0.736863172371013 and parameters: {'x': 4.0}. Best is trial 11 with value: 0.020048479550599154.\n",
      "[I 2023-09-28 10:56:54,634] Trial 13 finished with value: 83.56871624416688 and parameters: {'x': -6.0}. Best is trial 11 with value: 0.020048479550599154.\n",
      "[I 2023-09-28 10:56:54,637] Trial 14 finished with value: 9.869604401089358 and parameters: {'x': 0.0}. Best is trial 11 with value: 0.020048479550599154.\n",
      "[I 2023-09-28 10:56:54,640] Trial 15 finished with value: 4.586419093909772 and parameters: {'x': 1.0}. Best is trial 11 with value: 0.020048479550599154.\n",
      "[I 2023-09-28 10:56:54,642] Trial 16 finished with value: 23.604121943652668 and parameters: {'x': 8.0}. Best is trial 11 with value: 0.020048479550599154.\n",
      "[I 2023-09-28 10:56:54,647] Trial 17 finished with value: 124.13508685852605 and parameters: {'x': -8.0}. Best is trial 11 with value: 0.020048479550599154.\n",
      "[I 2023-09-28 10:56:54,650] Trial 18 finished with value: 147.41827216570564 and parameters: {'x': -9.0}. Best is trial 11 with value: 0.020048479550599154.\n",
      "[I 2023-09-28 10:56:54,653] Trial 19 finished with value: 102.85190155134646 and parameters: {'x': -7.0}. Best is trial 11 with value: 0.020048479550599154.\n"
     ]
    },
    {
     "data": {
      "application/vnd.plotly.v1+json": {
       "config": {
        "plotlyServerURL": "https://plot.ly"
       },
       "data": [
        {
         "mode": "markers",
         "name": "Objective Value",
         "type": "scatter",
         "x": [
          0,
          1,
          2,
          3,
          4,
          5,
          6,
          7,
          8,
          9,
          10,
          11,
          12,
          13,
          14,
          15,
          16,
          17,
          18,
          19
         ],
         "y": [
          51.0023456298077,
          34.32093663647308,
          3.453677865191427,
          1.3032337867301853,
          17.152789708268944,
          8.17049255801184,
          172.7014574728852,
          66.28553093698729,
          26.43597501544853,
          14.887307250832254,
          37.71916032262811,
          0.020048479550599154,
          0.736863172371013,
          83.56871624416688,
          9.869604401089358,
          4.586419093909772,
          23.604121943652668,
          124.13508685852605,
          147.41827216570564,
          102.85190155134646
         ]
        },
        {
         "mode": "lines",
         "name": "Best Value",
         "type": "scatter",
         "x": [
          0,
          1,
          2,
          3,
          4,
          5,
          6,
          7,
          8,
          9,
          10,
          11,
          12,
          13,
          14,
          15,
          16,
          17,
          18,
          19
         ],
         "y": [
          51.0023456298077,
          34.32093663647308,
          3.453677865191427,
          1.3032337867301853,
          1.3032337867301853,
          1.3032337867301853,
          1.3032337867301853,
          1.3032337867301853,
          1.3032337867301853,
          1.3032337867301853,
          1.3032337867301853,
          0.020048479550599154,
          0.020048479550599154,
          0.020048479550599154,
          0.020048479550599154,
          0.020048479550599154,
          0.020048479550599154,
          0.020048479550599154,
          0.020048479550599154,
          0.020048479550599154
         ]
        },
        {
         "marker": {
          "color": "#cccccc"
         },
         "mode": "markers",
         "name": "Infeasible Trial",
         "showlegend": false,
         "type": "scatter",
         "x": [],
         "y": []
        }
       ],
       "layout": {
        "template": {
         "data": {
          "bar": [
           {
            "error_x": {
             "color": "#2a3f5f"
            },
            "error_y": {
             "color": "#2a3f5f"
            },
            "marker": {
             "line": {
              "color": "#E5ECF6",
              "width": 0.5
             },
             "pattern": {
              "fillmode": "overlay",
              "size": 10,
              "solidity": 0.2
             }
            },
            "type": "bar"
           }
          ],
          "barpolar": [
           {
            "marker": {
             "line": {
              "color": "#E5ECF6",
              "width": 0.5
             },
             "pattern": {
              "fillmode": "overlay",
              "size": 10,
              "solidity": 0.2
             }
            },
            "type": "barpolar"
           }
          ],
          "carpet": [
           {
            "aaxis": {
             "endlinecolor": "#2a3f5f",
             "gridcolor": "white",
             "linecolor": "white",
             "minorgridcolor": "white",
             "startlinecolor": "#2a3f5f"
            },
            "baxis": {
             "endlinecolor": "#2a3f5f",
             "gridcolor": "white",
             "linecolor": "white",
             "minorgridcolor": "white",
             "startlinecolor": "#2a3f5f"
            },
            "type": "carpet"
           }
          ],
          "choropleth": [
           {
            "colorbar": {
             "outlinewidth": 0,
             "ticks": ""
            },
            "type": "choropleth"
           }
          ],
          "contour": [
           {
            "colorbar": {
             "outlinewidth": 0,
             "ticks": ""
            },
            "colorscale": [
             [
              0,
              "#0d0887"
             ],
             [
              0.1111111111111111,
              "#46039f"
             ],
             [
              0.2222222222222222,
              "#7201a8"
             ],
             [
              0.3333333333333333,
              "#9c179e"
             ],
             [
              0.4444444444444444,
              "#bd3786"
             ],
             [
              0.5555555555555556,
              "#d8576b"
             ],
             [
              0.6666666666666666,
              "#ed7953"
             ],
             [
              0.7777777777777778,
              "#fb9f3a"
             ],
             [
              0.8888888888888888,
              "#fdca26"
             ],
             [
              1,
              "#f0f921"
             ]
            ],
            "type": "contour"
           }
          ],
          "contourcarpet": [
           {
            "colorbar": {
             "outlinewidth": 0,
             "ticks": ""
            },
            "type": "contourcarpet"
           }
          ],
          "heatmap": [
           {
            "colorbar": {
             "outlinewidth": 0,
             "ticks": ""
            },
            "colorscale": [
             [
              0,
              "#0d0887"
             ],
             [
              0.1111111111111111,
              "#46039f"
             ],
             [
              0.2222222222222222,
              "#7201a8"
             ],
             [
              0.3333333333333333,
              "#9c179e"
             ],
             [
              0.4444444444444444,
              "#bd3786"
             ],
             [
              0.5555555555555556,
              "#d8576b"
             ],
             [
              0.6666666666666666,
              "#ed7953"
             ],
             [
              0.7777777777777778,
              "#fb9f3a"
             ],
             [
              0.8888888888888888,
              "#fdca26"
             ],
             [
              1,
              "#f0f921"
             ]
            ],
            "type": "heatmap"
           }
          ],
          "heatmapgl": [
           {
            "colorbar": {
             "outlinewidth": 0,
             "ticks": ""
            },
            "colorscale": [
             [
              0,
              "#0d0887"
             ],
             [
              0.1111111111111111,
              "#46039f"
             ],
             [
              0.2222222222222222,
              "#7201a8"
             ],
             [
              0.3333333333333333,
              "#9c179e"
             ],
             [
              0.4444444444444444,
              "#bd3786"
             ],
             [
              0.5555555555555556,
              "#d8576b"
             ],
             [
              0.6666666666666666,
              "#ed7953"
             ],
             [
              0.7777777777777778,
              "#fb9f3a"
             ],
             [
              0.8888888888888888,
              "#fdca26"
             ],
             [
              1,
              "#f0f921"
             ]
            ],
            "type": "heatmapgl"
           }
          ],
          "histogram": [
           {
            "marker": {
             "pattern": {
              "fillmode": "overlay",
              "size": 10,
              "solidity": 0.2
             }
            },
            "type": "histogram"
           }
          ],
          "histogram2d": [
           {
            "colorbar": {
             "outlinewidth": 0,
             "ticks": ""
            },
            "colorscale": [
             [
              0,
              "#0d0887"
             ],
             [
              0.1111111111111111,
              "#46039f"
             ],
             [
              0.2222222222222222,
              "#7201a8"
             ],
             [
              0.3333333333333333,
              "#9c179e"
             ],
             [
              0.4444444444444444,
              "#bd3786"
             ],
             [
              0.5555555555555556,
              "#d8576b"
             ],
             [
              0.6666666666666666,
              "#ed7953"
             ],
             [
              0.7777777777777778,
              "#fb9f3a"
             ],
             [
              0.8888888888888888,
              "#fdca26"
             ],
             [
              1,
              "#f0f921"
             ]
            ],
            "type": "histogram2d"
           }
          ],
          "histogram2dcontour": [
           {
            "colorbar": {
             "outlinewidth": 0,
             "ticks": ""
            },
            "colorscale": [
             [
              0,
              "#0d0887"
             ],
             [
              0.1111111111111111,
              "#46039f"
             ],
             [
              0.2222222222222222,
              "#7201a8"
             ],
             [
              0.3333333333333333,
              "#9c179e"
             ],
             [
              0.4444444444444444,
              "#bd3786"
             ],
             [
              0.5555555555555556,
              "#d8576b"
             ],
             [
              0.6666666666666666,
              "#ed7953"
             ],
             [
              0.7777777777777778,
              "#fb9f3a"
             ],
             [
              0.8888888888888888,
              "#fdca26"
             ],
             [
              1,
              "#f0f921"
             ]
            ],
            "type": "histogram2dcontour"
           }
          ],
          "mesh3d": [
           {
            "colorbar": {
             "outlinewidth": 0,
             "ticks": ""
            },
            "type": "mesh3d"
           }
          ],
          "parcoords": [
           {
            "line": {
             "colorbar": {
              "outlinewidth": 0,
              "ticks": ""
             }
            },
            "type": "parcoords"
           }
          ],
          "pie": [
           {
            "automargin": true,
            "type": "pie"
           }
          ],
          "scatter": [
           {
            "fillpattern": {
             "fillmode": "overlay",
             "size": 10,
             "solidity": 0.2
            },
            "type": "scatter"
           }
          ],
          "scatter3d": [
           {
            "line": {
             "colorbar": {
              "outlinewidth": 0,
              "ticks": ""
             }
            },
            "marker": {
             "colorbar": {
              "outlinewidth": 0,
              "ticks": ""
             }
            },
            "type": "scatter3d"
           }
          ],
          "scattercarpet": [
           {
            "marker": {
             "colorbar": {
              "outlinewidth": 0,
              "ticks": ""
             }
            },
            "type": "scattercarpet"
           }
          ],
          "scattergeo": [
           {
            "marker": {
             "colorbar": {
              "outlinewidth": 0,
              "ticks": ""
             }
            },
            "type": "scattergeo"
           }
          ],
          "scattergl": [
           {
            "marker": {
             "colorbar": {
              "outlinewidth": 0,
              "ticks": ""
             }
            },
            "type": "scattergl"
           }
          ],
          "scattermapbox": [
           {
            "marker": {
             "colorbar": {
              "outlinewidth": 0,
              "ticks": ""
             }
            },
            "type": "scattermapbox"
           }
          ],
          "scatterpolar": [
           {
            "marker": {
             "colorbar": {
              "outlinewidth": 0,
              "ticks": ""
             }
            },
            "type": "scatterpolar"
           }
          ],
          "scatterpolargl": [
           {
            "marker": {
             "colorbar": {
              "outlinewidth": 0,
              "ticks": ""
             }
            },
            "type": "scatterpolargl"
           }
          ],
          "scatterternary": [
           {
            "marker": {
             "colorbar": {
              "outlinewidth": 0,
              "ticks": ""
             }
            },
            "type": "scatterternary"
           }
          ],
          "surface": [
           {
            "colorbar": {
             "outlinewidth": 0,
             "ticks": ""
            },
            "colorscale": [
             [
              0,
              "#0d0887"
             ],
             [
              0.1111111111111111,
              "#46039f"
             ],
             [
              0.2222222222222222,
              "#7201a8"
             ],
             [
              0.3333333333333333,
              "#9c179e"
             ],
             [
              0.4444444444444444,
              "#bd3786"
             ],
             [
              0.5555555555555556,
              "#d8576b"
             ],
             [
              0.6666666666666666,
              "#ed7953"
             ],
             [
              0.7777777777777778,
              "#fb9f3a"
             ],
             [
              0.8888888888888888,
              "#fdca26"
             ],
             [
              1,
              "#f0f921"
             ]
            ],
            "type": "surface"
           }
          ],
          "table": [
           {
            "cells": {
             "fill": {
              "color": "#EBF0F8"
             },
             "line": {
              "color": "white"
             }
            },
            "header": {
             "fill": {
              "color": "#C8D4E3"
             },
             "line": {
              "color": "white"
             }
            },
            "type": "table"
           }
          ]
         },
         "layout": {
          "annotationdefaults": {
           "arrowcolor": "#2a3f5f",
           "arrowhead": 0,
           "arrowwidth": 1
          },
          "autotypenumbers": "strict",
          "coloraxis": {
           "colorbar": {
            "outlinewidth": 0,
            "ticks": ""
           }
          },
          "colorscale": {
           "diverging": [
            [
             0,
             "#8e0152"
            ],
            [
             0.1,
             "#c51b7d"
            ],
            [
             0.2,
             "#de77ae"
            ],
            [
             0.3,
             "#f1b6da"
            ],
            [
             0.4,
             "#fde0ef"
            ],
            [
             0.5,
             "#f7f7f7"
            ],
            [
             0.6,
             "#e6f5d0"
            ],
            [
             0.7,
             "#b8e186"
            ],
            [
             0.8,
             "#7fbc41"
            ],
            [
             0.9,
             "#4d9221"
            ],
            [
             1,
             "#276419"
            ]
           ],
           "sequential": [
            [
             0,
             "#0d0887"
            ],
            [
             0.1111111111111111,
             "#46039f"
            ],
            [
             0.2222222222222222,
             "#7201a8"
            ],
            [
             0.3333333333333333,
             "#9c179e"
            ],
            [
             0.4444444444444444,
             "#bd3786"
            ],
            [
             0.5555555555555556,
             "#d8576b"
            ],
            [
             0.6666666666666666,
             "#ed7953"
            ],
            [
             0.7777777777777778,
             "#fb9f3a"
            ],
            [
             0.8888888888888888,
             "#fdca26"
            ],
            [
             1,
             "#f0f921"
            ]
           ],
           "sequentialminus": [
            [
             0,
             "#0d0887"
            ],
            [
             0.1111111111111111,
             "#46039f"
            ],
            [
             0.2222222222222222,
             "#7201a8"
            ],
            [
             0.3333333333333333,
             "#9c179e"
            ],
            [
             0.4444444444444444,
             "#bd3786"
            ],
            [
             0.5555555555555556,
             "#d8576b"
            ],
            [
             0.6666666666666666,
             "#ed7953"
            ],
            [
             0.7777777777777778,
             "#fb9f3a"
            ],
            [
             0.8888888888888888,
             "#fdca26"
            ],
            [
             1,
             "#f0f921"
            ]
           ]
          },
          "colorway": [
           "#636efa",
           "#EF553B",
           "#00cc96",
           "#ab63fa",
           "#FFA15A",
           "#19d3f3",
           "#FF6692",
           "#B6E880",
           "#FF97FF",
           "#FECB52"
          ],
          "font": {
           "color": "#2a3f5f"
          },
          "geo": {
           "bgcolor": "white",
           "lakecolor": "white",
           "landcolor": "#E5ECF6",
           "showlakes": true,
           "showland": true,
           "subunitcolor": "white"
          },
          "hoverlabel": {
           "align": "left"
          },
          "hovermode": "closest",
          "mapbox": {
           "style": "light"
          },
          "paper_bgcolor": "white",
          "plot_bgcolor": "#E5ECF6",
          "polar": {
           "angularaxis": {
            "gridcolor": "white",
            "linecolor": "white",
            "ticks": ""
           },
           "bgcolor": "#E5ECF6",
           "radialaxis": {
            "gridcolor": "white",
            "linecolor": "white",
            "ticks": ""
           }
          },
          "scene": {
           "xaxis": {
            "backgroundcolor": "#E5ECF6",
            "gridcolor": "white",
            "gridwidth": 2,
            "linecolor": "white",
            "showbackground": true,
            "ticks": "",
            "zerolinecolor": "white"
           },
           "yaxis": {
            "backgroundcolor": "#E5ECF6",
            "gridcolor": "white",
            "gridwidth": 2,
            "linecolor": "white",
            "showbackground": true,
            "ticks": "",
            "zerolinecolor": "white"
           },
           "zaxis": {
            "backgroundcolor": "#E5ECF6",
            "gridcolor": "white",
            "gridwidth": 2,
            "linecolor": "white",
            "showbackground": true,
            "ticks": "",
            "zerolinecolor": "white"
           }
          },
          "shapedefaults": {
           "line": {
            "color": "#2a3f5f"
           }
          },
          "ternary": {
           "aaxis": {
            "gridcolor": "white",
            "linecolor": "white",
            "ticks": ""
           },
           "baxis": {
            "gridcolor": "white",
            "linecolor": "white",
            "ticks": ""
           },
           "bgcolor": "#E5ECF6",
           "caxis": {
            "gridcolor": "white",
            "linecolor": "white",
            "ticks": ""
           }
          },
          "title": {
           "x": 0.05
          },
          "xaxis": {
           "automargin": true,
           "gridcolor": "white",
           "linecolor": "white",
           "ticks": "",
           "title": {
            "standoff": 15
           },
           "zerolinecolor": "white",
           "zerolinewidth": 2
          },
          "yaxis": {
           "automargin": true,
           "gridcolor": "white",
           "linecolor": "white",
           "ticks": "",
           "title": {
            "standoff": 15
           },
           "zerolinecolor": "white",
           "zerolinewidth": 2
          }
         }
        },
        "title": {
         "text": "Optimization History Plot"
        },
        "xaxis": {
         "title": {
          "text": "Trial"
         }
        },
        "yaxis": {
         "title": {
          "text": "Objective Value"
         }
        }
       }
      }
     },
     "metadata": {},
     "output_type": "display_data"
    }
   ],
   "source": [
    "import logging\n",
    "import sys\n",
    "import numpy as np\n",
    "import optuna\n",
    "from optuna import visualization\n",
    "\n",
    "\n",
    "def thing_to_minimise(x):\n",
    "    return (x - np.pi) ** 2\n",
    "\n",
    "\n",
    "def objective(trial):\n",
    "    x = trial.suggest_float(\"x\", -10, 10)\n",
    "    return thing_to_minimise(x)\n",
    "\n",
    "\n",
    "study_simple_grid = optuna.create_study(sampler=optuna.samplers.GridSampler({\"x\":list(range(-10,10,1))}))\n",
    "study_simple_grid.optimize(objective, n_trials=20)\n",
    "visualization.plot_optimization_history(study_simple_grid)"
   ]
  },
  {
   "cell_type": "code",
   "execution_count": 17,
   "metadata": {},
   "outputs": [
    {
     "name": "stderr",
     "output_type": "stream",
     "text": [
      "[I 2023-09-28 10:56:54,668] A new study created in memory with name: no-name-2e7098ac-644a-468f-80b6-4724de3d4317\n",
      "[I 2023-09-28 10:56:54,670] Trial 0 finished with value: 21.379288292519536 and parameters: {'x': -1.4821815939832366}. Best is trial 0 with value: 21.379288292519536.\n",
      "[I 2023-09-28 10:56:54,671] Trial 1 finished with value: 77.04999552952962 and parameters: {'x': -5.636220031215553}. Best is trial 0 with value: 21.379288292519536.\n",
      "[I 2023-09-28 10:56:54,672] Trial 2 finished with value: 23.288306319416265 and parameters: {'x': -1.6842032724120788}. Best is trial 0 with value: 21.379288292519536.\n",
      "[I 2023-09-28 10:56:54,673] Trial 3 finished with value: 3.3440452761198376 and parameters: {'x': 1.3129195619411416}. Best is trial 3 with value: 3.3440452761198376.\n",
      "[I 2023-09-28 10:56:54,675] Trial 4 finished with value: 7.736040457008181 and parameters: {'x': 0.3602188101433246}. Best is trial 3 with value: 3.3440452761198376.\n",
      "[I 2023-09-28 10:56:54,676] Trial 5 finished with value: 93.80883304627669 and parameters: {'x': -6.543903360878267}. Best is trial 3 with value: 3.3440452761198376.\n",
      "[I 2023-09-28 10:56:54,677] Trial 6 finished with value: 5.273803907275566 and parameters: {'x': 0.8451162423729119}. Best is trial 3 with value: 3.3440452761198376.\n",
      "[I 2023-09-28 10:56:54,678] Trial 7 finished with value: 4.423081251909058 and parameters: {'x': 1.0384803760570271}. Best is trial 3 with value: 3.3440452761198376.\n",
      "[I 2023-09-28 10:56:54,679] Trial 8 finished with value: 2.974147256792637 and parameters: {'x': 1.4170210381465154}. Best is trial 8 with value: 2.974147256792637.\n",
      "[I 2023-09-28 10:56:54,680] Trial 9 finished with value: 38.78491353967824 and parameters: {'x': 9.369346144189613}. Best is trial 8 with value: 2.974147256792637.\n",
      "[I 2023-09-28 10:56:54,688] Trial 10 finished with value: 170.0687737723862 and parameters: {'x': -9.89944924391158}. Best is trial 8 with value: 2.974147256792637.\n",
      "[I 2023-09-28 10:56:54,692] Trial 11 finished with value: 2.4405794957516664 and parameters: {'x': 4.703828069828865}. Best is trial 11 with value: 2.4405794957516664.\n",
      "[I 2023-09-28 10:56:54,700] Trial 12 finished with value: 6.562578038582148 and parameters: {'x': 5.703345576606013}. Best is trial 11 with value: 2.4405794957516664.\n",
      "[I 2023-09-28 10:56:54,706] Trial 13 finished with value: 2.4943179485190514 and parameters: {'x': 4.720933639102121}. Best is trial 11 with value: 2.4405794957516664.\n",
      "[I 2023-09-28 10:56:54,711] Trial 14 finished with value: 5.515779476709423 and parameters: {'x': 5.490162319729042}. Best is trial 11 with value: 2.4405794957516664.\n",
      "[I 2023-09-28 10:56:54,717] Trial 15 finished with value: 2.1369233038957587 and parameters: {'x': 4.60341456610026}. Best is trial 15 with value: 2.1369233038957587.\n",
      "[I 2023-09-28 10:56:54,721] Trial 16 finished with value: 42.70867543430406 and parameters: {'x': 9.676780136310091}. Best is trial 15 with value: 2.1369233038957587.\n",
      "[I 2023-09-28 10:56:54,728] Trial 17 finished with value: 1.4817936106701353 and parameters: {'x': 4.358882105885399}. Best is trial 17 with value: 1.4817936106701353.\n",
      "[I 2023-09-28 10:56:54,733] Trial 18 finished with value: 20.972330127009933 and parameters: {'x': 7.72114832275792}. Best is trial 17 with value: 1.4817936106701353.\n",
      "[I 2023-09-28 10:56:54,738] Trial 19 finished with value: 0.2087239390178198 and parameters: {'x': 3.59845580489204}. Best is trial 19 with value: 0.2087239390178198.\n",
      "[I 2023-09-28 10:56:54,742] Trial 20 finished with value: 0.004959206694275488 and parameters: {'x': 3.0711710184605554}. Best is trial 20 with value: 0.004959206694275488.\n",
      "[I 2023-09-28 10:56:54,747] Trial 21 finished with value: 0.04129631054207042 and parameters: {'x': 2.938377716781323}. Best is trial 20 with value: 0.004959206694275488.\n",
      "[I 2023-09-28 10:56:54,756] Trial 22 finished with value: 0.07840762324793148 and parameters: {'x': 2.861579040977957}. Best is trial 20 with value: 0.004959206694275488.\n",
      "[I 2023-09-28 10:56:54,762] Trial 23 finished with value: 0.3646981552411473 and parameters: {'x': 2.537690215077456}. Best is trial 20 with value: 0.004959206694275488.\n",
      "[I 2023-09-28 10:56:54,767] Trial 24 finished with value: 0.0310209428017433 and parameters: {'x': 2.965465021454051}. Best is trial 20 with value: 0.004959206694275488.\n",
      "[I 2023-09-28 10:56:54,772] Trial 25 finished with value: 11.72098468968914 and parameters: {'x': 6.565185019758572}. Best is trial 20 with value: 0.004959206694275488.\n",
      "[I 2023-09-28 10:56:54,779] Trial 26 finished with value: 0.06852211408354983 and parameters: {'x': 2.879825363647849}. Best is trial 20 with value: 0.004959206694275488.\n",
      "[I 2023-09-28 10:56:54,787] Trial 27 finished with value: 13.885424122775207 and parameters: {'x': 6.867907739941886}. Best is trial 20 with value: 0.004959206694275488.\n",
      "[I 2023-09-28 10:56:54,794] Trial 28 finished with value: 0.3675026079373723 and parameters: {'x': 2.535372719954011}. Best is trial 20 with value: 0.004959206694275488.\n",
      "[I 2023-09-28 10:56:54,802] Trial 29 finished with value: 16.332904332050486 and parameters: {'x': -0.8998061552449013}. Best is trial 20 with value: 0.004959206694275488.\n",
      "[I 2023-09-28 10:56:54,811] Trial 30 finished with value: 15.599813982104267 and parameters: {'x': -0.8080673295105584}. Best is trial 20 with value: 0.004959206694275488.\n",
      "[I 2023-09-28 10:56:54,818] Trial 31 finished with value: 0.04139561958426297 and parameters: {'x': 2.938133518665202}. Best is trial 20 with value: 0.004959206694275488.\n",
      "[I 2023-09-28 10:56:54,824] Trial 32 finished with value: 0.3370182242381197 and parameters: {'x': 3.722125360883809}. Best is trial 20 with value: 0.004959206694275488.\n",
      "[I 2023-09-28 10:56:54,831] Trial 33 finished with value: 28.79942734311689 and parameters: {'x': -2.224917137989543}. Best is trial 20 with value: 0.004959206694275488.\n",
      "[I 2023-09-28 10:56:54,838] Trial 34 finished with value: 1.041657248454051 and parameters: {'x': 2.1209765414036044}. Best is trial 20 with value: 0.004959206694275488.\n",
      "[I 2023-09-28 10:56:54,842] Trial 35 finished with value: 8.061097608503614 and parameters: {'x': 0.30238543880190205}. Best is trial 20 with value: 0.004959206694275488.\n",
      "[I 2023-09-28 10:56:54,851] Trial 36 finished with value: 0.2767060670266232 and parameters: {'x': 3.6676212336371354}. Best is trial 20 with value: 0.004959206694275488.\n",
      "[I 2023-09-28 10:56:54,857] Trial 37 finished with value: 2.6947915369245834 and parameters: {'x': 1.5000106309894652}. Best is trial 20 with value: 0.004959206694275488.\n",
      "[I 2023-09-28 10:56:54,865] Trial 38 finished with value: 11.72230794758185 and parameters: {'x': -0.28219296288531703}. Best is trial 20 with value: 0.004959206694275488.\n",
      "[I 2023-09-28 10:56:54,874] Trial 39 finished with value: 27.529626866380287 and parameters: {'x': -2.1052756377226816}. Best is trial 20 with value: 0.004959206694275488.\n",
      "[I 2023-09-28 10:56:54,913] Trial 40 finished with value: 1.6754741798526338 and parameters: {'x': 1.8471915643393886}. Best is trial 20 with value: 0.004959206694275488.\n",
      "[I 2023-09-28 10:56:54,924] Trial 41 finished with value: 0.07941545898181676 and parameters: {'x': 3.4234001392636424}. Best is trial 20 with value: 0.004959206694275488.\n",
      "[I 2023-09-28 10:56:54,934] Trial 42 finished with value: 0.08121672292119599 and parameters: {'x': 2.856607175150635}. Best is trial 20 with value: 0.004959206694275488.\n",
      "[I 2023-09-28 10:56:54,942] Trial 43 finished with value: 4.457193505626016 and parameters: {'x': 1.0303860067581723}. Best is trial 20 with value: 0.004959206694275488.\n",
      "[I 2023-09-28 10:56:54,956] Trial 44 finished with value: 1.6489843899941585 and parameters: {'x': 1.8574647822334556}. Best is trial 20 with value: 0.004959206694275488.\n",
      "[I 2023-09-28 10:56:54,981] Trial 45 finished with value: 4.686829086401008 and parameters: {'x': 0.9766840905319887}. Best is trial 20 with value: 0.004959206694275488.\n",
      "[I 2023-09-28 10:56:54,991] Trial 46 finished with value: 5.442501558729283 and parameters: {'x': 5.474509617120489}. Best is trial 20 with value: 0.004959206694275488.\n",
      "[I 2023-09-28 10:56:54,999] Trial 47 finished with value: 0.00042230191899956317 and parameters: {'x': 3.1621426394535246}. Best is trial 47 with value: 0.00042230191899956317.\n",
      "[I 2023-09-28 10:56:55,007] Trial 48 finished with value: 1.3328992601881426 and parameters: {'x': 4.29610521748338}. Best is trial 47 with value: 0.00042230191899956317.\n",
      "[I 2023-09-28 10:56:55,014] Trial 49 finished with value: 7.469804043037525 and parameters: {'x': 0.4084984285332318}. Best is trial 47 with value: 0.00042230191899956317.\n"
     ]
    },
    {
     "data": {
      "application/vnd.plotly.v1+json": {
       "config": {
        "plotlyServerURL": "https://plot.ly"
       },
       "data": [
        {
         "mode": "markers",
         "name": "Objective Value",
         "type": "scatter",
         "x": [
          0,
          1,
          2,
          3,
          4,
          5,
          6,
          7,
          8,
          9,
          10,
          11,
          12,
          13,
          14,
          15,
          16,
          17,
          18,
          19,
          20,
          21,
          22,
          23,
          24,
          25,
          26,
          27,
          28,
          29,
          30,
          31,
          32,
          33,
          34,
          35,
          36,
          37,
          38,
          39,
          40,
          41,
          42,
          43,
          44,
          45,
          46,
          47,
          48,
          49
         ],
         "y": [
          21.379288292519536,
          77.04999552952962,
          23.288306319416265,
          3.3440452761198376,
          7.736040457008181,
          93.80883304627669,
          5.273803907275566,
          4.423081251909058,
          2.974147256792637,
          38.78491353967824,
          170.0687737723862,
          2.4405794957516664,
          6.562578038582148,
          2.4943179485190514,
          5.515779476709423,
          2.1369233038957587,
          42.70867543430406,
          1.4817936106701353,
          20.972330127009933,
          0.2087239390178198,
          0.004959206694275488,
          0.04129631054207042,
          0.07840762324793148,
          0.3646981552411473,
          0.0310209428017433,
          11.72098468968914,
          0.06852211408354983,
          13.885424122775207,
          0.3675026079373723,
          16.332904332050486,
          15.599813982104267,
          0.04139561958426297,
          0.3370182242381197,
          28.79942734311689,
          1.041657248454051,
          8.061097608503614,
          0.2767060670266232,
          2.6947915369245834,
          11.72230794758185,
          27.529626866380287,
          1.6754741798526338,
          0.07941545898181676,
          0.08121672292119599,
          4.457193505626016,
          1.6489843899941585,
          4.686829086401008,
          5.442501558729283,
          0.00042230191899956317,
          1.3328992601881426,
          7.469804043037525
         ]
        },
        {
         "mode": "lines",
         "name": "Best Value",
         "type": "scatter",
         "x": [
          0,
          1,
          2,
          3,
          4,
          5,
          6,
          7,
          8,
          9,
          10,
          11,
          12,
          13,
          14,
          15,
          16,
          17,
          18,
          19,
          20,
          21,
          22,
          23,
          24,
          25,
          26,
          27,
          28,
          29,
          30,
          31,
          32,
          33,
          34,
          35,
          36,
          37,
          38,
          39,
          40,
          41,
          42,
          43,
          44,
          45,
          46,
          47,
          48,
          49
         ],
         "y": [
          21.379288292519536,
          21.379288292519536,
          21.379288292519536,
          3.3440452761198376,
          3.3440452761198376,
          3.3440452761198376,
          3.3440452761198376,
          3.3440452761198376,
          2.974147256792637,
          2.974147256792637,
          2.974147256792637,
          2.4405794957516664,
          2.4405794957516664,
          2.4405794957516664,
          2.4405794957516664,
          2.1369233038957587,
          2.1369233038957587,
          1.4817936106701353,
          1.4817936106701353,
          0.2087239390178198,
          0.004959206694275488,
          0.004959206694275488,
          0.004959206694275488,
          0.004959206694275488,
          0.004959206694275488,
          0.004959206694275488,
          0.004959206694275488,
          0.004959206694275488,
          0.004959206694275488,
          0.004959206694275488,
          0.004959206694275488,
          0.004959206694275488,
          0.004959206694275488,
          0.004959206694275488,
          0.004959206694275488,
          0.004959206694275488,
          0.004959206694275488,
          0.004959206694275488,
          0.004959206694275488,
          0.004959206694275488,
          0.004959206694275488,
          0.004959206694275488,
          0.004959206694275488,
          0.004959206694275488,
          0.004959206694275488,
          0.004959206694275488,
          0.004959206694275488,
          0.00042230191899956317,
          0.00042230191899956317,
          0.00042230191899956317
         ]
        },
        {
         "marker": {
          "color": "#cccccc"
         },
         "mode": "markers",
         "name": "Infeasible Trial",
         "showlegend": false,
         "type": "scatter",
         "x": [],
         "y": []
        }
       ],
       "layout": {
        "template": {
         "data": {
          "bar": [
           {
            "error_x": {
             "color": "#2a3f5f"
            },
            "error_y": {
             "color": "#2a3f5f"
            },
            "marker": {
             "line": {
              "color": "#E5ECF6",
              "width": 0.5
             },
             "pattern": {
              "fillmode": "overlay",
              "size": 10,
              "solidity": 0.2
             }
            },
            "type": "bar"
           }
          ],
          "barpolar": [
           {
            "marker": {
             "line": {
              "color": "#E5ECF6",
              "width": 0.5
             },
             "pattern": {
              "fillmode": "overlay",
              "size": 10,
              "solidity": 0.2
             }
            },
            "type": "barpolar"
           }
          ],
          "carpet": [
           {
            "aaxis": {
             "endlinecolor": "#2a3f5f",
             "gridcolor": "white",
             "linecolor": "white",
             "minorgridcolor": "white",
             "startlinecolor": "#2a3f5f"
            },
            "baxis": {
             "endlinecolor": "#2a3f5f",
             "gridcolor": "white",
             "linecolor": "white",
             "minorgridcolor": "white",
             "startlinecolor": "#2a3f5f"
            },
            "type": "carpet"
           }
          ],
          "choropleth": [
           {
            "colorbar": {
             "outlinewidth": 0,
             "ticks": ""
            },
            "type": "choropleth"
           }
          ],
          "contour": [
           {
            "colorbar": {
             "outlinewidth": 0,
             "ticks": ""
            },
            "colorscale": [
             [
              0,
              "#0d0887"
             ],
             [
              0.1111111111111111,
              "#46039f"
             ],
             [
              0.2222222222222222,
              "#7201a8"
             ],
             [
              0.3333333333333333,
              "#9c179e"
             ],
             [
              0.4444444444444444,
              "#bd3786"
             ],
             [
              0.5555555555555556,
              "#d8576b"
             ],
             [
              0.6666666666666666,
              "#ed7953"
             ],
             [
              0.7777777777777778,
              "#fb9f3a"
             ],
             [
              0.8888888888888888,
              "#fdca26"
             ],
             [
              1,
              "#f0f921"
             ]
            ],
            "type": "contour"
           }
          ],
          "contourcarpet": [
           {
            "colorbar": {
             "outlinewidth": 0,
             "ticks": ""
            },
            "type": "contourcarpet"
           }
          ],
          "heatmap": [
           {
            "colorbar": {
             "outlinewidth": 0,
             "ticks": ""
            },
            "colorscale": [
             [
              0,
              "#0d0887"
             ],
             [
              0.1111111111111111,
              "#46039f"
             ],
             [
              0.2222222222222222,
              "#7201a8"
             ],
             [
              0.3333333333333333,
              "#9c179e"
             ],
             [
              0.4444444444444444,
              "#bd3786"
             ],
             [
              0.5555555555555556,
              "#d8576b"
             ],
             [
              0.6666666666666666,
              "#ed7953"
             ],
             [
              0.7777777777777778,
              "#fb9f3a"
             ],
             [
              0.8888888888888888,
              "#fdca26"
             ],
             [
              1,
              "#f0f921"
             ]
            ],
            "type": "heatmap"
           }
          ],
          "heatmapgl": [
           {
            "colorbar": {
             "outlinewidth": 0,
             "ticks": ""
            },
            "colorscale": [
             [
              0,
              "#0d0887"
             ],
             [
              0.1111111111111111,
              "#46039f"
             ],
             [
              0.2222222222222222,
              "#7201a8"
             ],
             [
              0.3333333333333333,
              "#9c179e"
             ],
             [
              0.4444444444444444,
              "#bd3786"
             ],
             [
              0.5555555555555556,
              "#d8576b"
             ],
             [
              0.6666666666666666,
              "#ed7953"
             ],
             [
              0.7777777777777778,
              "#fb9f3a"
             ],
             [
              0.8888888888888888,
              "#fdca26"
             ],
             [
              1,
              "#f0f921"
             ]
            ],
            "type": "heatmapgl"
           }
          ],
          "histogram": [
           {
            "marker": {
             "pattern": {
              "fillmode": "overlay",
              "size": 10,
              "solidity": 0.2
             }
            },
            "type": "histogram"
           }
          ],
          "histogram2d": [
           {
            "colorbar": {
             "outlinewidth": 0,
             "ticks": ""
            },
            "colorscale": [
             [
              0,
              "#0d0887"
             ],
             [
              0.1111111111111111,
              "#46039f"
             ],
             [
              0.2222222222222222,
              "#7201a8"
             ],
             [
              0.3333333333333333,
              "#9c179e"
             ],
             [
              0.4444444444444444,
              "#bd3786"
             ],
             [
              0.5555555555555556,
              "#d8576b"
             ],
             [
              0.6666666666666666,
              "#ed7953"
             ],
             [
              0.7777777777777778,
              "#fb9f3a"
             ],
             [
              0.8888888888888888,
              "#fdca26"
             ],
             [
              1,
              "#f0f921"
             ]
            ],
            "type": "histogram2d"
           }
          ],
          "histogram2dcontour": [
           {
            "colorbar": {
             "outlinewidth": 0,
             "ticks": ""
            },
            "colorscale": [
             [
              0,
              "#0d0887"
             ],
             [
              0.1111111111111111,
              "#46039f"
             ],
             [
              0.2222222222222222,
              "#7201a8"
             ],
             [
              0.3333333333333333,
              "#9c179e"
             ],
             [
              0.4444444444444444,
              "#bd3786"
             ],
             [
              0.5555555555555556,
              "#d8576b"
             ],
             [
              0.6666666666666666,
              "#ed7953"
             ],
             [
              0.7777777777777778,
              "#fb9f3a"
             ],
             [
              0.8888888888888888,
              "#fdca26"
             ],
             [
              1,
              "#f0f921"
             ]
            ],
            "type": "histogram2dcontour"
           }
          ],
          "mesh3d": [
           {
            "colorbar": {
             "outlinewidth": 0,
             "ticks": ""
            },
            "type": "mesh3d"
           }
          ],
          "parcoords": [
           {
            "line": {
             "colorbar": {
              "outlinewidth": 0,
              "ticks": ""
             }
            },
            "type": "parcoords"
           }
          ],
          "pie": [
           {
            "automargin": true,
            "type": "pie"
           }
          ],
          "scatter": [
           {
            "fillpattern": {
             "fillmode": "overlay",
             "size": 10,
             "solidity": 0.2
            },
            "type": "scatter"
           }
          ],
          "scatter3d": [
           {
            "line": {
             "colorbar": {
              "outlinewidth": 0,
              "ticks": ""
             }
            },
            "marker": {
             "colorbar": {
              "outlinewidth": 0,
              "ticks": ""
             }
            },
            "type": "scatter3d"
           }
          ],
          "scattercarpet": [
           {
            "marker": {
             "colorbar": {
              "outlinewidth": 0,
              "ticks": ""
             }
            },
            "type": "scattercarpet"
           }
          ],
          "scattergeo": [
           {
            "marker": {
             "colorbar": {
              "outlinewidth": 0,
              "ticks": ""
             }
            },
            "type": "scattergeo"
           }
          ],
          "scattergl": [
           {
            "marker": {
             "colorbar": {
              "outlinewidth": 0,
              "ticks": ""
             }
            },
            "type": "scattergl"
           }
          ],
          "scattermapbox": [
           {
            "marker": {
             "colorbar": {
              "outlinewidth": 0,
              "ticks": ""
             }
            },
            "type": "scattermapbox"
           }
          ],
          "scatterpolar": [
           {
            "marker": {
             "colorbar": {
              "outlinewidth": 0,
              "ticks": ""
             }
            },
            "type": "scatterpolar"
           }
          ],
          "scatterpolargl": [
           {
            "marker": {
             "colorbar": {
              "outlinewidth": 0,
              "ticks": ""
             }
            },
            "type": "scatterpolargl"
           }
          ],
          "scatterternary": [
           {
            "marker": {
             "colorbar": {
              "outlinewidth": 0,
              "ticks": ""
             }
            },
            "type": "scatterternary"
           }
          ],
          "surface": [
           {
            "colorbar": {
             "outlinewidth": 0,
             "ticks": ""
            },
            "colorscale": [
             [
              0,
              "#0d0887"
             ],
             [
              0.1111111111111111,
              "#46039f"
             ],
             [
              0.2222222222222222,
              "#7201a8"
             ],
             [
              0.3333333333333333,
              "#9c179e"
             ],
             [
              0.4444444444444444,
              "#bd3786"
             ],
             [
              0.5555555555555556,
              "#d8576b"
             ],
             [
              0.6666666666666666,
              "#ed7953"
             ],
             [
              0.7777777777777778,
              "#fb9f3a"
             ],
             [
              0.8888888888888888,
              "#fdca26"
             ],
             [
              1,
              "#f0f921"
             ]
            ],
            "type": "surface"
           }
          ],
          "table": [
           {
            "cells": {
             "fill": {
              "color": "#EBF0F8"
             },
             "line": {
              "color": "white"
             }
            },
            "header": {
             "fill": {
              "color": "#C8D4E3"
             },
             "line": {
              "color": "white"
             }
            },
            "type": "table"
           }
          ]
         },
         "layout": {
          "annotationdefaults": {
           "arrowcolor": "#2a3f5f",
           "arrowhead": 0,
           "arrowwidth": 1
          },
          "autotypenumbers": "strict",
          "coloraxis": {
           "colorbar": {
            "outlinewidth": 0,
            "ticks": ""
           }
          },
          "colorscale": {
           "diverging": [
            [
             0,
             "#8e0152"
            ],
            [
             0.1,
             "#c51b7d"
            ],
            [
             0.2,
             "#de77ae"
            ],
            [
             0.3,
             "#f1b6da"
            ],
            [
             0.4,
             "#fde0ef"
            ],
            [
             0.5,
             "#f7f7f7"
            ],
            [
             0.6,
             "#e6f5d0"
            ],
            [
             0.7,
             "#b8e186"
            ],
            [
             0.8,
             "#7fbc41"
            ],
            [
             0.9,
             "#4d9221"
            ],
            [
             1,
             "#276419"
            ]
           ],
           "sequential": [
            [
             0,
             "#0d0887"
            ],
            [
             0.1111111111111111,
             "#46039f"
            ],
            [
             0.2222222222222222,
             "#7201a8"
            ],
            [
             0.3333333333333333,
             "#9c179e"
            ],
            [
             0.4444444444444444,
             "#bd3786"
            ],
            [
             0.5555555555555556,
             "#d8576b"
            ],
            [
             0.6666666666666666,
             "#ed7953"
            ],
            [
             0.7777777777777778,
             "#fb9f3a"
            ],
            [
             0.8888888888888888,
             "#fdca26"
            ],
            [
             1,
             "#f0f921"
            ]
           ],
           "sequentialminus": [
            [
             0,
             "#0d0887"
            ],
            [
             0.1111111111111111,
             "#46039f"
            ],
            [
             0.2222222222222222,
             "#7201a8"
            ],
            [
             0.3333333333333333,
             "#9c179e"
            ],
            [
             0.4444444444444444,
             "#bd3786"
            ],
            [
             0.5555555555555556,
             "#d8576b"
            ],
            [
             0.6666666666666666,
             "#ed7953"
            ],
            [
             0.7777777777777778,
             "#fb9f3a"
            ],
            [
             0.8888888888888888,
             "#fdca26"
            ],
            [
             1,
             "#f0f921"
            ]
           ]
          },
          "colorway": [
           "#636efa",
           "#EF553B",
           "#00cc96",
           "#ab63fa",
           "#FFA15A",
           "#19d3f3",
           "#FF6692",
           "#B6E880",
           "#FF97FF",
           "#FECB52"
          ],
          "font": {
           "color": "#2a3f5f"
          },
          "geo": {
           "bgcolor": "white",
           "lakecolor": "white",
           "landcolor": "#E5ECF6",
           "showlakes": true,
           "showland": true,
           "subunitcolor": "white"
          },
          "hoverlabel": {
           "align": "left"
          },
          "hovermode": "closest",
          "mapbox": {
           "style": "light"
          },
          "paper_bgcolor": "white",
          "plot_bgcolor": "#E5ECF6",
          "polar": {
           "angularaxis": {
            "gridcolor": "white",
            "linecolor": "white",
            "ticks": ""
           },
           "bgcolor": "#E5ECF6",
           "radialaxis": {
            "gridcolor": "white",
            "linecolor": "white",
            "ticks": ""
           }
          },
          "scene": {
           "xaxis": {
            "backgroundcolor": "#E5ECF6",
            "gridcolor": "white",
            "gridwidth": 2,
            "linecolor": "white",
            "showbackground": true,
            "ticks": "",
            "zerolinecolor": "white"
           },
           "yaxis": {
            "backgroundcolor": "#E5ECF6",
            "gridcolor": "white",
            "gridwidth": 2,
            "linecolor": "white",
            "showbackground": true,
            "ticks": "",
            "zerolinecolor": "white"
           },
           "zaxis": {
            "backgroundcolor": "#E5ECF6",
            "gridcolor": "white",
            "gridwidth": 2,
            "linecolor": "white",
            "showbackground": true,
            "ticks": "",
            "zerolinecolor": "white"
           }
          },
          "shapedefaults": {
           "line": {
            "color": "#2a3f5f"
           }
          },
          "ternary": {
           "aaxis": {
            "gridcolor": "white",
            "linecolor": "white",
            "ticks": ""
           },
           "baxis": {
            "gridcolor": "white",
            "linecolor": "white",
            "ticks": ""
           },
           "bgcolor": "#E5ECF6",
           "caxis": {
            "gridcolor": "white",
            "linecolor": "white",
            "ticks": ""
           }
          },
          "title": {
           "x": 0.05
          },
          "xaxis": {
           "automargin": true,
           "gridcolor": "white",
           "linecolor": "white",
           "ticks": "",
           "title": {
            "standoff": 15
           },
           "zerolinecolor": "white",
           "zerolinewidth": 2
          },
          "yaxis": {
           "automargin": true,
           "gridcolor": "white",
           "linecolor": "white",
           "ticks": "",
           "title": {
            "standoff": 15
           },
           "zerolinecolor": "white",
           "zerolinewidth": 2
          }
         }
        },
        "title": {
         "text": "Optimization History Plot"
        },
        "xaxis": {
         "title": {
          "text": "Trial"
         }
        },
        "yaxis": {
         "title": {
          "text": "Objective Value"
         }
        }
       }
      }
     },
     "metadata": {},
     "output_type": "display_data"
    }
   ],
   "source": [
    "study_simple = optuna.create_study()\n",
    "study_simple.optimize(objective, n_trials=50)\n",
    "from optuna import visualization\n",
    "\n",
    "visualization.plot_optimization_history(study_simple)"
   ]
  },
  {
   "cell_type": "markdown",
   "metadata": {},
   "source": [
    "- The default algorithm, `tpe.suggest`, is usually a good choice. Here it's better than grid seatch!\n",
    "- We haven't touched hyperparameters yet!\n",
    "- Here we've just optimised for $x$\n",
    "- This illustrates the point we were making earlier - just think of hyperparameter optimisation basically like any other optimisation routine."
   ]
  },
  {
   "cell_type": "markdown",
   "metadata": {},
   "source": [
    "## Go to slides"
   ]
  },
  {
   "cell_type": "code",
   "execution_count": 18,
   "metadata": {},
   "outputs": [
    {
     "name": "stdout",
     "output_type": "stream",
     "text": [
      " Winning value was {'x': 3.1621426394535246} with a score of 0.00042230191899956317\n"
     ]
    }
   ],
   "source": [
    "print(f' Winning value was {study_simple.best_params} with a score of {study_simple.best_value}')"
   ]
  },
  {
   "cell_type": "markdown",
   "metadata": {},
   "source": [
    "## A More Realistic Problem\n",
    "\n",
    "- For a simple algebraic problem like above, we would use a simpler method\n",
    "- These techniques come into their own when we have more decisions to make about *how* we're structuring our models and functions. \n",
    "- In order to give us problem to work on, we're going to desecrate an SKlearn dataset:"
   ]
  },
  {
   "cell_type": "code",
   "execution_count": 19,
   "metadata": {},
   "outputs": [
    {
     "data": {
      "text/plain": [
       "label\n",
       "1    154\n",
       "3    149\n",
       "6    146\n",
       "0    145\n",
       "7    145\n",
       "2    144\n",
       "8    144\n",
       "9    140\n",
       "5    135\n",
       "4    135\n",
       "Name: count, dtype: int64"
      ]
     },
     "execution_count": 19,
     "metadata": {},
     "output_type": "execute_result"
    }
   ],
   "source": [
    "import numpy as np\n",
    "from sklearn.datasets import load_digits\n",
    "from sklearn.model_selection import train_test_split\n",
    "from sklearn.linear_model import LogisticRegression\n",
    "from sklearn.metrics import accuracy_score\n",
    "import pandas as pd\n",
    "\n",
    "data = load_digits()\n",
    "df = pd.DataFrame({'values': list(data.data), 'label': data.target})\n",
    "\n",
    "df_train, df_test = train_test_split(df, test_size=0.2, random_state=42)\n",
    "\n",
    "\n",
    "proportion_to_remove = 0.0\n",
    "filtered_indices = df_train[df_train['label'].isin([6,7])].index\n",
    "\n",
    "num_rows_to_remove = int(len(filtered_indices) * proportion_to_remove)\n",
    "\n",
    "rows_to_remove = np.random.choice(filtered_indices, num_rows_to_remove, replace=False)\n",
    "\n",
    "df_train = df_train.drop(rows_to_remove)\n",
    "\n",
    "df_train['label'].value_counts()\n"
   ]
  },
  {
   "cell_type": "code",
   "execution_count": 20,
   "metadata": {},
   "outputs": [],
   "source": [
    "X_train = np.vstack(df_train['values'].values)\n",
    "y_train = df_train['label'].values\n",
    "X_test = np.vstack(df_test['values'].values)\n",
    "y_test = df_test['label'].values\n"
   ]
  },
  {
   "cell_type": "code",
   "execution_count": 21,
   "metadata": {},
   "outputs": [],
   "source": [
    "np.random.seed(42)\n",
    "noise_factor = 5\n",
    "\n",
    "X_train = X_train + noise_factor * np.random.randn(*X_train.shape)"
   ]
  },
  {
   "cell_type": "code",
   "execution_count": 22,
   "metadata": {},
   "outputs": [
    {
     "data": {
      "image/png": "[encoded data removed]",
      "text/plain": [
       "<Figure size 640x480 with 2 Axes>"
      ]
     },
     "metadata": {},
     "output_type": "display_data"
    },
    {
     "name": "stdout",
     "output_type": "stream",
     "text": [
      "accuracy = 0.46111111111111114\n",
      "[0.90909091 0.         0.75757576 0.88235294 0.         0.14893617\n",
      " 0.71428571 0.5        0.         0.8       ]\n"
     ]
    }
   ],
   "source": [
    "import sklearn\n",
    "import matplotlib.pyplot as plt\n",
    "from sklearn.metrics import recall_score\n",
    "from sklearn.linear_model import SGDClassifier\n",
    "from sklearn.tree import DecisionTreeClassifier\n",
    "\n",
    "# clf = LogisticRegression()\n",
    "# clf=SGDClassifier()\n",
    "clf = DecisionTreeClassifier(max_depth=3,min_samples_split=2)\n",
    "clf.fit(X_train, y_train)\n",
    "\n",
    "preds = clf.predict(X_test)\n",
    "\n",
    "\n",
    "conf_mat = sklearn.metrics.confusion_matrix(y_test, preds)\n",
    "conf = sklearn.metrics.ConfusionMatrixDisplay(conf_mat)\n",
    "conf.plot()\n",
    "plt.show()\n",
    "print(f'accuracy = {accuracy_score(y_test, preds)}')\n",
    "print(recall_score(y_test, preds, average=None))\n"
   ]
  },
  {
   "cell_type": "markdown",
   "metadata": {},
   "source": [
    "This is terrible!\n",
    "Can we do any better?"
   ]
  },
  {
   "cell_type": "markdown",
   "metadata": {},
   "source": [
    "In the code below, notice:\n",
    "- suggesting ints, floats, and categorical\n",
    "- We can pick whatever metric we want for the optimisation!"
   ]
  },
  {
   "cell_type": "code",
   "execution_count": 23,
   "metadata": {},
   "outputs": [
    {
     "name": "stderr",
     "output_type": "stream",
     "text": [
      "[I 2023-09-28 10:56:55,959] A new study created in memory with name: no-name-16486ccd-d6c0-4bc5-a2ee-a746fd2d3242\n",
      "[I 2023-09-28 10:56:57,489] Trial 1 finished with value: 0.17745112272551297 and parameters: {'max_depth': 1, 'min_samples_split': 25, 'min_samples_leaf': 26, 'sigma': 0.14056473367106362}. Best is trial 1 with value: 0.17745112272551297.\n",
      "[I 2023-09-28 10:56:57,713] Trial 2 finished with value: 0.5135743321718932 and parameters: {'max_depth': 32, 'min_samples_split': 24, 'min_samples_leaf': 6, 'sigma': 0.01743855879372422}. Best is trial 2 with value: 0.5135743321718932.\n",
      "[I 2023-09-28 10:56:57,897] Trial 5 finished with value: 0.2707050909794812 and parameters: {'max_depth': 26, 'min_samples_split': 30, 'min_samples_leaf': 13, 'sigma': 2.7374419576251365}. Best is trial 2 with value: 0.5135743321718932.\n",
      "[I 2023-09-28 10:56:57,988] Trial 0 finished with value: 0.5177724545102593 and parameters: {'max_depth': 25, 'min_samples_split': 12, 'min_samples_leaf': 12, 'sigma': 0.03130608139218737}. Best is trial 0 with value: 0.5177724545102593.\n",
      "[I 2023-09-28 10:56:58,019] Trial 3 finished with value: 0.6082002516453735 and parameters: {'max_depth': 16, 'min_samples_split': 19, 'min_samples_leaf': 21, 'sigma': 0.8516995044564573}. Best is trial 3 with value: 0.6082002516453735.\n",
      "[I 2023-09-28 10:56:58,088] Trial 6 finished with value: 0.519166182733256 and parameters: {'max_depth': 12, 'min_samples_split': 8, 'min_samples_leaf': 13, 'sigma': 0.02539695288281438}. Best is trial 3 with value: 0.6082002516453735.\n",
      "[I 2023-09-28 10:56:58,101] Trial 7 finished with value: 0.5142711962833915 and parameters: {'max_depth': 17, 'min_samples_split': 17, 'min_samples_leaf': 1, 'sigma': 0.09552591205859223}. Best is trial 3 with value: 0.6082002516453735.\n",
      "[I 2023-09-28 10:56:58,130] Trial 4 finished with value: 0.6256363724351528 and parameters: {'max_depth': 6, 'min_samples_split': 12, 'min_samples_leaf': 9, 'sigma': 0.7116381753189894}. Best is trial 4 with value: 0.6256363724351528.\n",
      "[I 2023-09-28 10:56:58,778] Trial 8 finished with value: 0.49130129694154084 and parameters: {'max_depth': 7, 'min_samples_split': 18, 'min_samples_leaf': 32, 'sigma': 0.11892050164613252}. Best is trial 4 with value: 0.6256363724351528.\n",
      "[I 2023-09-28 10:56:59,363] Trial 13 finished with value: 0.5108038133952768 and parameters: {'max_depth': 24, 'min_samples_split': 32, 'min_samples_leaf': 10, 'sigma': 0.047774366933239595}. Best is trial 4 with value: 0.6256363724351528.\n",
      "[I 2023-09-28 10:56:59,771] Trial 10 finished with value: 0.4954824816105304 and parameters: {'max_depth': 15, 'min_samples_split': 6, 'min_samples_leaf': 28, 'sigma': 0.03436217938125598}. Best is trial 4 with value: 0.6256363724351528.\n",
      "[I 2023-09-28 10:56:59,859] Trial 11 finished with value: 0.5073146535036779 and parameters: {'max_depth': 29, 'min_samples_split': 26, 'min_samples_leaf': 18, 'sigma': 0.035218102614004876}. Best is trial 4 with value: 0.6256363724351528.\n",
      "[I 2023-09-28 10:56:59,863] Trial 15 finished with value: 0.603331881533101 and parameters: {'max_depth': 20, 'min_samples_split': 22, 'min_samples_leaf': 32, 'sigma': 0.8871531224300958}. Best is trial 4 with value: 0.6256363724351528.\n",
      "[I 2023-09-28 10:56:59,949] Trial 17 finished with value: 0.1774559620596206 and parameters: {'max_depth': 1, 'min_samples_split': 5, 'min_samples_leaf': 19, 'sigma': 0.6135438369485963}. Best is trial 4 with value: 0.6256363724351528.\n",
      "[I 2023-09-28 10:56:59,950] Trial 16 finished with value: 0.510099690282617 and parameters: {'max_depth': 29, 'min_samples_split': 5, 'min_samples_leaf': 7, 'sigma': 0.08013588890196519}. Best is trial 4 with value: 0.6256363724351528.\n",
      "[I 2023-09-28 10:57:00,063] Trial 14 finished with value: 0.4112466124661246 and parameters: {'max_depth': 16, 'min_samples_split': 28, 'min_samples_leaf': 10, 'sigma': 1.7672742481161472}. Best is trial 4 with value: 0.6256363724351528.\n",
      "[I 2023-09-28 10:57:00,160] Trial 12 finished with value: 0.5065984320557491 and parameters: {'max_depth': 13, 'min_samples_split': 28, 'min_samples_leaf': 2, 'sigma': 0.17446091659076332}. Best is trial 4 with value: 0.6256363724351528.\n",
      "[I 2023-09-28 10:57:00,357] Trial 9 finished with value: 0.22612514518002325 and parameters: {'max_depth': 20, 'min_samples_split': 7, 'min_samples_leaf': 3, 'sigma': 3.3085960401122065}. Best is trial 4 with value: 0.6256363724351528.\n",
      "[I 2023-09-28 10:57:01,550] Trial 18 finished with value: 0.5942750677506775 and parameters: {'max_depth': 6, 'min_samples_split': 14, 'min_samples_leaf': 20, 'sigma': 0.9161116344366335}. Best is trial 4 with value: 0.6256363724351528.\n",
      "[I 2023-09-28 10:57:01,655] Trial 19 finished with value: 0.5796965737514518 and parameters: {'max_depth': 8, 'min_samples_split': 2, 'min_samples_leaf': 19, 'sigma': 0.49037410162665124}. Best is trial 4 with value: 0.6256363724351528.\n",
      "[I 2023-09-28 10:57:01,669] Trial 20 finished with value: 0.6019720286488579 and parameters: {'max_depth': 8, 'min_samples_split': 2, 'min_samples_leaf': 20, 'sigma': 0.5451211771141846}. Best is trial 4 with value: 0.6256363724351528.\n",
      "[I 2023-09-28 10:57:01,770] Trial 25 finished with value: 0.5149462833914054 and parameters: {'max_depth': 8, 'min_samples_split': 15, 'min_samples_leaf': 23, 'sigma': 0.38864563224577436}. Best is trial 4 with value: 0.6256363724351528.\n",
      "[I 2023-09-28 10:57:01,836] Trial 21 finished with value: 0.22339334107626793 and parameters: {'max_depth': 8, 'min_samples_split': 13, 'min_samples_leaf': 22, 'sigma': 3.8299499819109326}. Best is trial 4 with value: 0.6256363724351528.\n",
      "[I 2023-09-28 10:57:02,925] Trial 23 finished with value: 0.19272648083623695 and parameters: {'max_depth': 10, 'min_samples_split': 13, 'min_samples_leaf': 23, 'sigma': 5.472822801651455}. Best is trial 4 with value: 0.6256363724351528.\n",
      "[I 2023-09-28 10:57:02,995] Trial 28 finished with value: 0.4286585365853659 and parameters: {'max_depth': 21, 'min_samples_split': 22, 'min_samples_leaf': 26, 'sigma': 1.5051096370585808}. Best is trial 4 with value: 0.6256363724351528.\n",
      "[I 2023-09-28 10:57:03,025] Trial 26 finished with value: 0.5149680603948896 and parameters: {'max_depth': 7, 'min_samples_split': 11, 'min_samples_leaf': 23, 'sigma': 0.38082206209222347}. Best is trial 4 with value: 0.6256363724351528.\n",
      "[I 2023-09-28 10:57:03,195] Trial 30 finished with value: 0.5205284552845528 and parameters: {'max_depth': 20, 'min_samples_split': 21, 'min_samples_leaf': 30, 'sigma': 1.095746446794438}. Best is trial 4 with value: 0.6256363724351528.\n",
      "[I 2023-09-28 10:57:03,408] Trial 22 finished with value: 0.1092286101432443 and parameters: {'max_depth': 8, 'min_samples_split': 14, 'min_samples_leaf': 24, 'sigma': 8.005724200419097}. Best is trial 4 with value: 0.6256363724351528.\n",
      "[I 2023-09-28 10:57:03,409] Trial 24 finished with value: 0.12315621370499419 and parameters: {'max_depth': 8, 'min_samples_split': 14, 'min_samples_leaf': 23, 'sigma': 6.885882024195825}. Best is trial 4 with value: 0.6256363724351528.\n",
      "[I 2023-09-28 10:57:04,394] Trial 29 finished with value: 0.09880226480836236 and parameters: {'max_depth': 21, 'min_samples_split': 21, 'min_samples_leaf': 29, 'sigma': 8.935119450689188}. Best is trial 4 with value: 0.6256363724351528.\n",
      "[I 2023-09-28 10:57:04,471] Trial 27 finished with value: 0.09807636469221835 and parameters: {'max_depth': 11, 'min_samples_split': 20, 'min_samples_leaf': 23, 'sigma': 8.437448144287002}. Best is trial 4 with value: 0.6256363724351528.\n",
      "[I 2023-09-28 10:57:05,094] Trial 38 finished with value: 0.36814508323654666 and parameters: {'max_depth': 3, 'min_samples_split': 10, 'min_samples_leaf': 17, 'sigma': 0.22944999376421132}. Best is trial 4 with value: 0.6256363724351528.\n",
      "[I 2023-09-28 10:57:05,133] Trial 34 finished with value: 0.45579994192799067 and parameters: {'max_depth': 4, 'min_samples_split': 20, 'min_samples_leaf': 16, 'sigma': 0.2568122071372509}. Best is trial 4 with value: 0.6256363724351528.\n",
      "[I 2023-09-28 10:57:05,213] Trial 31 finished with value: 0.514963221060782 and parameters: {'max_depth': 20, 'min_samples_split': 21, 'min_samples_leaf': 31, 'sigma': 1.1068353049955764}. Best is trial 4 with value: 0.6256363724351528.\n",
      "[I 2023-09-28 10:57:05,261] Trial 36 finished with value: 0.5344560588463028 and parameters: {'max_depth': 23, 'min_samples_split': 20, 'min_samples_leaf': 16, 'sigma': 0.25179760500147597}. Best is trial 4 with value: 0.6256363724351528.\n",
      "[I 2023-09-28 10:57:05,344] Trial 35 finished with value: 0.6249032133178475 and parameters: {'max_depth': 23, 'min_samples_split': 20, 'min_samples_leaf': 14, 'sigma': 0.8765298072065248}. Best is trial 4 with value: 0.6256363724351528.\n",
      "[I 2023-09-28 10:57:05,409] Trial 37 finished with value: 0.5066202090592334 and parameters: {'max_depth': 17, 'min_samples_split': 19, 'min_samples_leaf': 16, 'sigma': 0.23114599796904053}. Best is trial 4 with value: 0.6256363724351528.\n",
      "[I 2023-09-28 10:57:05,431] Trial 32 finished with value: 0.5309789972899729 and parameters: {'max_depth': 19, 'min_samples_split': 20, 'min_samples_leaf': 16, 'sigma': 0.26352675689469557}. Best is trial 4 with value: 0.6256363724351528.\n",
      "[I 2023-09-28 10:57:05,861] Trial 33 finished with value: 0.08904858691444058 and parameters: {'max_depth': 21, 'min_samples_split': 21, 'min_samples_leaf': 32, 'sigma': 9.632651835670673}. Best is trial 4 with value: 0.6256363724351528.\n",
      "[I 2023-09-28 10:57:07,147] Trial 39 finished with value: 0.5428087495160666 and parameters: {'max_depth': 4, 'min_samples_split': 18, 'min_samples_leaf': 16, 'sigma': 0.6325345545270085}. Best is trial 4 with value: 0.6256363724351528.\n",
      "[I 2023-09-28 10:57:07,186] Trial 42 finished with value: 0.5936217576461479 and parameters: {'max_depth': 14, 'min_samples_split': 2, 'min_samples_leaf': 26, 'sigma': 0.5818199506816282}. Best is trial 4 with value: 0.6256363724351528.\n",
      "[I 2023-09-28 10:57:07,254] Trial 40 finished with value: 0.6395663956639567 and parameters: {'max_depth': 18, 'min_samples_split': 2, 'min_samples_leaf': 15, 'sigma': 0.6655421139546143}. Best is trial 40 with value: 0.6395663956639567.\n",
      "[I 2023-09-28 10:57:07,286] Trial 46 finished with value: 0.6235627177700348 and parameters: {'max_depth': 27, 'min_samples_split': 24, 'min_samples_leaf': 13, 'sigma': 0.7465414458815823}. Best is trial 40 with value: 0.6395663956639567.\n",
      "[I 2023-09-28 10:57:07,353] Trial 43 finished with value: 0.6221399535423926 and parameters: {'max_depth': 18, 'min_samples_split': 24, 'min_samples_leaf': 14, 'sigma': 0.7941656384510192}. Best is trial 40 with value: 0.6395663956639567.\n",
      "[I 2023-09-28 10:57:07,366] Trial 45 finished with value: 0.6513767905536199 and parameters: {'max_depth': 25, 'min_samples_split': 24, 'min_samples_leaf': 13, 'sigma': 0.7009571219945628}. Best is trial 45 with value: 0.6513767905536199.\n",
      "[I 2023-09-28 10:57:07,379] Trial 44 finished with value: 0.6381920247773907 and parameters: {'max_depth': 25, 'min_samples_split': 24, 'min_samples_leaf': 13, 'sigma': 0.6861606428571145}. Best is trial 45 with value: 0.6513767905536199.\n",
      "[I 2023-09-28 10:57:07,379] Trial 41 finished with value: 0.6298272357723577 and parameters: {'max_depth': 14, 'min_samples_split': 24, 'min_samples_leaf': 14, 'sigma': 0.6552575235925757}. Best is trial 45 with value: 0.6513767905536199.\n",
      "[I 2023-09-28 10:57:08,095] Trial 49 finished with value: 0.39037456445993024 and parameters: {'max_depth': 27, 'min_samples_split': 24, 'min_samples_leaf': 13, 'sigma': 1.9918671616303112}. Best is trial 45 with value: 0.6513767905536199.\n",
      "[I 2023-09-28 10:57:08,100] Trial 47 finished with value: 0.35351577622919084 and parameters: {'max_depth': 26, 'min_samples_split': 24, 'min_samples_leaf': 13, 'sigma': 2.1625683974277554}. Best is trial 45 with value: 0.6513767905536199.\n",
      "[I 2023-09-28 10:57:08,113] Trial 48 finished with value: 0.6116990902051878 and parameters: {'max_depth': 26, 'min_samples_split': 24, 'min_samples_leaf': 13, 'sigma': 0.8134449886634412}. Best is trial 45 with value: 0.6513767905536199.\n"
     ]
    },
    {
     "data": {
      "application/vnd.plotly.v1+json": {
       "config": {
        "plotlyServerURL": "https://plot.ly"
       },
       "data": [
        {
         "mode": "markers",
         "name": "Objective Value",
         "type": "scatter",
         "x": [
          0,
          1,
          2,
          3,
          4,
          5,
          6,
          7,
          8,
          9,
          10,
          11,
          12,
          13,
          14,
          15,
          16,
          17,
          18,
          19,
          20,
          21,
          22,
          23,
          24,
          25,
          26,
          27,
          28,
          29,
          30,
          31,
          32,
          33,
          34,
          35,
          36,
          37,
          38,
          39,
          40,
          41,
          42,
          43,
          44,
          45,
          46,
          47,
          48,
          49
         ],
         "y": [
          0.5177724545102593,
          0.17745112272551297,
          0.5135743321718932,
          0.6082002516453735,
          0.6256363724351528,
          0.2707050909794812,
          0.519166182733256,
          0.5142711962833915,
          0.49130129694154084,
          0.22612514518002325,
          0.4954824816105304,
          0.5073146535036779,
          0.5065984320557491,
          0.5108038133952768,
          0.4112466124661246,
          0.603331881533101,
          0.510099690282617,
          0.1774559620596206,
          0.5942750677506775,
          0.5796965737514518,
          0.6019720286488579,
          0.22339334107626793,
          0.1092286101432443,
          0.19272648083623695,
          0.12315621370499419,
          0.5149462833914054,
          0.5149680603948896,
          0.09807636469221835,
          0.4286585365853659,
          0.09880226480836236,
          0.5205284552845528,
          0.514963221060782,
          0.5309789972899729,
          0.08904858691444058,
          0.45579994192799067,
          0.6249032133178475,
          0.5344560588463028,
          0.5066202090592334,
          0.36814508323654666,
          0.5428087495160666,
          0.6395663956639567,
          0.6298272357723577,
          0.5936217576461479,
          0.6221399535423926,
          0.6381920247773907,
          0.6513767905536199,
          0.6235627177700348,
          0.35351577622919084,
          0.6116990902051878,
          0.39037456445993024
         ]
        },
        {
         "mode": "lines",
         "name": "Best Value",
         "type": "scatter",
         "x": [
          0,
          1,
          2,
          3,
          4,
          5,
          6,
          7,
          8,
          9,
          10,
          11,
          12,
          13,
          14,
          15,
          16,
          17,
          18,
          19,
          20,
          21,
          22,
          23,
          24,
          25,
          26,
          27,
          28,
          29,
          30,
          31,
          32,
          33,
          34,
          35,
          36,
          37,
          38,
          39,
          40,
          41,
          42,
          43,
          44,
          45,
          46,
          47,
          48,
          49
         ],
         "y": [
          0.5177724545102593,
          0.5177724545102593,
          0.5177724545102593,
          0.6082002516453735,
          0.6256363724351528,
          0.6256363724351528,
          0.6256363724351528,
          0.6256363724351528,
          0.6256363724351528,
          0.6256363724351528,
          0.6256363724351528,
          0.6256363724351528,
          0.6256363724351528,
          0.6256363724351528,
          0.6256363724351528,
          0.6256363724351528,
          0.6256363724351528,
          0.6256363724351528,
          0.6256363724351528,
          0.6256363724351528,
          0.6256363724351528,
          0.6256363724351528,
          0.6256363724351528,
          0.6256363724351528,
          0.6256363724351528,
          0.6256363724351528,
          0.6256363724351528,
          0.6256363724351528,
          0.6256363724351528,
          0.6256363724351528,
          0.6256363724351528,
          0.6256363724351528,
          0.6256363724351528,
          0.6256363724351528,
          0.6256363724351528,
          0.6256363724351528,
          0.6256363724351528,
          0.6256363724351528,
          0.6256363724351528,
          0.6256363724351528,
          0.6395663956639567,
          0.6395663956639567,
          0.6395663956639567,
          0.6395663956639567,
          0.6395663956639567,
          0.6513767905536199,
          0.6513767905536199,
          0.6513767905536199,
          0.6513767905536199,
          0.6513767905536199
         ]
        },
        {
         "marker": {
          "color": "#cccccc"
         },
         "mode": "markers",
         "name": "Infeasible Trial",
         "showlegend": false,
         "type": "scatter",
         "x": [],
         "y": []
        }
       ],
       "layout": {
        "template": {
         "data": {
          "bar": [
           {
            "error_x": {
             "color": "#2a3f5f"
            },
            "error_y": {
             "color": "#2a3f5f"
            },
            "marker": {
             "line": {
              "color": "#E5ECF6",
              "width": 0.5
             },
             "pattern": {
              "fillmode": "overlay",
              "size": 10,
              "solidity": 0.2
             }
            },
            "type": "bar"
           }
          ],
          "barpolar": [
           {
            "marker": {
             "line": {
              "color": "#E5ECF6",
              "width": 0.5
             },
             "pattern": {
              "fillmode": "overlay",
              "size": 10,
              "solidity": 0.2
             }
            },
            "type": "barpolar"
           }
          ],
          "carpet": [
           {
            "aaxis": {
             "endlinecolor": "#2a3f5f",
             "gridcolor": "white",
             "linecolor": "white",
             "minorgridcolor": "white",
             "startlinecolor": "#2a3f5f"
            },
            "baxis": {
             "endlinecolor": "#2a3f5f",
             "gridcolor": "white",
             "linecolor": "white",
             "minorgridcolor": "white",
             "startlinecolor": "#2a3f5f"
            },
            "type": "carpet"
           }
          ],
          "choropleth": [
           {
            "colorbar": {
             "outlinewidth": 0,
             "ticks": ""
            },
            "type": "choropleth"
           }
          ],
          "contour": [
           {
            "colorbar": {
             "outlinewidth": 0,
             "ticks": ""
            },
            "colorscale": [
             [
              0,
              "#0d0887"
             ],
             [
              0.1111111111111111,
              "#46039f"
             ],
             [
              0.2222222222222222,
              "#7201a8"
             ],
             [
              0.3333333333333333,
              "#9c179e"
             ],
             [
              0.4444444444444444,
              "#bd3786"
             ],
             [
              0.5555555555555556,
              "#d8576b"
             ],
             [
              0.6666666666666666,
              "#ed7953"
             ],
             [
              0.7777777777777778,
              "#fb9f3a"
             ],
             [
              0.8888888888888888,
              "#fdca26"
             ],
             [
              1,
              "#f0f921"
             ]
            ],
            "type": "contour"
           }
          ],
          "contourcarpet": [
           {
            "colorbar": {
             "outlinewidth": 0,
             "ticks": ""
            },
            "type": "contourcarpet"
           }
          ],
          "heatmap": [
           {
            "colorbar": {
             "outlinewidth": 0,
             "ticks": ""
            },
            "colorscale": [
             [
              0,
              "#0d0887"
             ],
             [
              0.1111111111111111,
              "#46039f"
             ],
             [
              0.2222222222222222,
              "#7201a8"
             ],
             [
              0.3333333333333333,
              "#9c179e"
             ],
             [
              0.4444444444444444,
              "#bd3786"
             ],
             [
              0.5555555555555556,
              "#d8576b"
             ],
             [
              0.6666666666666666,
              "#ed7953"
             ],
             [
              0.7777777777777778,
              "#fb9f3a"
             ],
             [
              0.8888888888888888,
              "#fdca26"
             ],
             [
              1,
              "#f0f921"
             ]
            ],
            "type": "heatmap"
           }
          ],
          "heatmapgl": [
           {
            "colorbar": {
             "outlinewidth": 0,
             "ticks": ""
            },
            "colorscale": [
             [
              0,
              "#0d0887"
             ],
             [
              0.1111111111111111,
              "#46039f"
             ],
             [
              0.2222222222222222,
              "#7201a8"
             ],
             [
              0.3333333333333333,
              "#9c179e"
             ],
             [
              0.4444444444444444,
              "#bd3786"
             ],
             [
              0.5555555555555556,
              "#d8576b"
             ],
             [
              0.6666666666666666,
              "#ed7953"
             ],
             [
              0.7777777777777778,
              "#fb9f3a"
             ],
             [
              0.8888888888888888,
              "#fdca26"
             ],
             [
              1,
              "#f0f921"
             ]
            ],
            "type": "heatmapgl"
           }
          ],
          "histogram": [
           {
            "marker": {
             "pattern": {
              "fillmode": "overlay",
              "size": 10,
              "solidity": 0.2
             }
            },
            "type": "histogram"
           }
          ],
          "histogram2d": [
           {
            "colorbar": {
             "outlinewidth": 0,
             "ticks": ""
            },
            "colorscale": [
             [
              0,
              "#0d0887"
             ],
             [
              0.1111111111111111,
              "#46039f"
             ],
             [
              0.2222222222222222,
              "#7201a8"
             ],
             [
              0.3333333333333333,
              "#9c179e"
             ],
             [
              0.4444444444444444,
              "#bd3786"
             ],
             [
              0.5555555555555556,
              "#d8576b"
             ],
             [
              0.6666666666666666,
              "#ed7953"
             ],
             [
              0.7777777777777778,
              "#fb9f3a"
             ],
             [
              0.8888888888888888,
              "#fdca26"
             ],
             [
              1,
              "#f0f921"
             ]
            ],
            "type": "histogram2d"
           }
          ],
          "histogram2dcontour": [
           {
            "colorbar": {
             "outlinewidth": 0,
             "ticks": ""
            },
            "colorscale": [
             [
              0,
              "#0d0887"
             ],
             [
              0.1111111111111111,
              "#46039f"
             ],
             [
              0.2222222222222222,
              "#7201a8"
             ],
             [
              0.3333333333333333,
              "#9c179e"
             ],
             [
              0.4444444444444444,
              "#bd3786"
             ],
             [
              0.5555555555555556,
              "#d8576b"
             ],
             [
              0.6666666666666666,
              "#ed7953"
             ],
             [
              0.7777777777777778,
              "#fb9f3a"
             ],
             [
              0.8888888888888888,
              "#fdca26"
             ],
             [
              1,
              "#f0f921"
             ]
            ],
            "type": "histogram2dcontour"
           }
          ],
          "mesh3d": [
           {
            "colorbar": {
             "outlinewidth": 0,
             "ticks": ""
            },
            "type": "mesh3d"
           }
          ],
          "parcoords": [
           {
            "line": {
             "colorbar": {
              "outlinewidth": 0,
              "ticks": ""
             }
            },
            "type": "parcoords"
           }
          ],
          "pie": [
           {
            "automargin": true,
            "type": "pie"
           }
          ],
          "scatter": [
           {
            "fillpattern": {
             "fillmode": "overlay",
             "size": 10,
             "solidity": 0.2
            },
            "type": "scatter"
           }
          ],
          "scatter3d": [
           {
            "line": {
             "colorbar": {
              "outlinewidth": 0,
              "ticks": ""
             }
            },
            "marker": {
             "colorbar": {
              "outlinewidth": 0,
              "ticks": ""
             }
            },
            "type": "scatter3d"
           }
          ],
          "scattercarpet": [
           {
            "marker": {
             "colorbar": {
              "outlinewidth": 0,
              "ticks": ""
             }
            },
            "type": "scattercarpet"
           }
          ],
          "scattergeo": [
           {
            "marker": {
             "colorbar": {
              "outlinewidth": 0,
              "ticks": ""
             }
            },
            "type": "scattergeo"
           }
          ],
          "scattergl": [
           {
            "marker": {
             "colorbar": {
              "outlinewidth": 0,
              "ticks": ""
             }
            },
            "type": "scattergl"
           }
          ],
          "scattermapbox": [
           {
            "marker": {
             "colorbar": {
              "outlinewidth": 0,
              "ticks": ""
             }
            },
            "type": "scattermapbox"
           }
          ],
          "scatterpolar": [
           {
            "marker": {
             "colorbar": {
              "outlinewidth": 0,
              "ticks": ""
             }
            },
            "type": "scatterpolar"
           }
          ],
          "scatterpolargl": [
           {
            "marker": {
             "colorbar": {
              "outlinewidth": 0,
              "ticks": ""
             }
            },
            "type": "scatterpolargl"
           }
          ],
          "scatterternary": [
           {
            "marker": {
             "colorbar": {
              "outlinewidth": 0,
              "ticks": ""
             }
            },
            "type": "scatterternary"
           }
          ],
          "surface": [
           {
            "colorbar": {
             "outlinewidth": 0,
             "ticks": ""
            },
            "colorscale": [
             [
              0,
              "#0d0887"
             ],
             [
              0.1111111111111111,
              "#46039f"
             ],
             [
              0.2222222222222222,
              "#7201a8"
             ],
             [
              0.3333333333333333,
              "#9c179e"
             ],
             [
              0.4444444444444444,
              "#bd3786"
             ],
             [
              0.5555555555555556,
              "#d8576b"
             ],
             [
              0.6666666666666666,
              "#ed7953"
             ],
             [
              0.7777777777777778,
              "#fb9f3a"
             ],
             [
              0.8888888888888888,
              "#fdca26"
             ],
             [
              1,
              "#f0f921"
             ]
            ],
            "type": "surface"
           }
          ],
          "table": [
           {
            "cells": {
             "fill": {
              "color": "#EBF0F8"
             },
             "line": {
              "color": "white"
             }
            },
            "header": {
             "fill": {
              "color": "#C8D4E3"
             },
             "line": {
              "color": "white"
             }
            },
            "type": "table"
           }
          ]
         },
         "layout": {
          "annotationdefaults": {
           "arrowcolor": "#2a3f5f",
           "arrowhead": 0,
           "arrowwidth": 1
          },
          "autotypenumbers": "strict",
          "coloraxis": {
           "colorbar": {
            "outlinewidth": 0,
            "ticks": ""
           }
          },
          "colorscale": {
           "diverging": [
            [
             0,
             "#8e0152"
            ],
            [
             0.1,
             "#c51b7d"
            ],
            [
             0.2,
             "#de77ae"
            ],
            [
             0.3,
             "#f1b6da"
            ],
            [
             0.4,
             "#fde0ef"
            ],
            [
             0.5,
             "#f7f7f7"
            ],
            [
             0.6,
             "#e6f5d0"
            ],
            [
             0.7,
             "#b8e186"
            ],
            [
             0.8,
             "#7fbc41"
            ],
            [
             0.9,
             "#4d9221"
            ],
            [
             1,
             "#276419"
            ]
           ],
           "sequential": [
            [
             0,
             "#0d0887"
            ],
            [
             0.1111111111111111,
             "#46039f"
            ],
            [
             0.2222222222222222,
             "#7201a8"
            ],
            [
             0.3333333333333333,
             "#9c179e"
            ],
            [
             0.4444444444444444,
             "#bd3786"
            ],
            [
             0.5555555555555556,
             "#d8576b"
            ],
            [
             0.6666666666666666,
             "#ed7953"
            ],
            [
             0.7777777777777778,
             "#fb9f3a"
            ],
            [
             0.8888888888888888,
             "#fdca26"
            ],
            [
             1,
             "#f0f921"
            ]
           ],
           "sequentialminus": [
            [
             0,
             "#0d0887"
            ],
            [
             0.1111111111111111,
             "#46039f"
            ],
            [
             0.2222222222222222,
             "#7201a8"
            ],
            [
             0.3333333333333333,
             "#9c179e"
            ],
            [
             0.4444444444444444,
             "#bd3786"
            ],
            [
             0.5555555555555556,
             "#d8576b"
            ],
            [
             0.6666666666666666,
             "#ed7953"
            ],
            [
             0.7777777777777778,
             "#fb9f3a"
            ],
            [
             0.8888888888888888,
             "#fdca26"
            ],
            [
             1,
             "#f0f921"
            ]
           ]
          },
          "colorway": [
           "#636efa",
           "#EF553B",
           "#00cc96",
           "#ab63fa",
           "#FFA15A",
           "#19d3f3",
           "#FF6692",
           "#B6E880",
           "#FF97FF",
           "#FECB52"
          ],
          "font": {
           "color": "#2a3f5f"
          },
          "geo": {
           "bgcolor": "white",
           "lakecolor": "white",
           "landcolor": "#E5ECF6",
           "showlakes": true,
           "showland": true,
           "subunitcolor": "white"
          },
          "hoverlabel": {
           "align": "left"
          },
          "hovermode": "closest",
          "mapbox": {
           "style": "light"
          },
          "paper_bgcolor": "white",
          "plot_bgcolor": "#E5ECF6",
          "polar": {
           "angularaxis": {
            "gridcolor": "white",
            "linecolor": "white",
            "ticks": ""
           },
           "bgcolor": "#E5ECF6",
           "radialaxis": {
            "gridcolor": "white",
            "linecolor": "white",
            "ticks": ""
           }
          },
          "scene": {
           "xaxis": {
            "backgroundcolor": "#E5ECF6",
            "gridcolor": "white",
            "gridwidth": 2,
            "linecolor": "white",
            "showbackground": true,
            "ticks": "",
            "zerolinecolor": "white"
           },
           "yaxis": {
            "backgroundcolor": "#E5ECF6",
            "gridcolor": "white",
            "gridwidth": 2,
            "linecolor": "white",
            "showbackground": true,
            "ticks": "",
            "zerolinecolor": "white"
           },
           "zaxis": {
            "backgroundcolor": "#E5ECF6",
            "gridcolor": "white",
            "gridwidth": 2,
            "linecolor": "white",
            "showbackground": true,
            "ticks": "",
            "zerolinecolor": "white"
           }
          },
          "shapedefaults": {
           "line": {
            "color": "#2a3f5f"
           }
          },
          "ternary": {
           "aaxis": {
            "gridcolor": "white",
            "linecolor": "white",
            "ticks": ""
           },
           "baxis": {
            "gridcolor": "white",
            "linecolor": "white",
            "ticks": ""
           },
           "bgcolor": "#E5ECF6",
           "caxis": {
            "gridcolor": "white",
            "linecolor": "white",
            "ticks": ""
           }
          },
          "title": {
           "x": 0.05
          },
          "xaxis": {
           "automargin": true,
           "gridcolor": "white",
           "linecolor": "white",
           "ticks": "",
           "title": {
            "standoff": 15
           },
           "zerolinecolor": "white",
           "zerolinewidth": 2
          },
          "yaxis": {
           "automargin": true,
           "gridcolor": "white",
           "linecolor": "white",
           "ticks": "",
           "title": {
            "standoff": 15
           },
           "zerolinecolor": "white",
           "zerolinewidth": 2
          }
         }
        },
        "title": {
         "text": "Optimization History Plot"
        },
        "xaxis": {
         "title": {
          "text": "Trial"
         }
        },
        "yaxis": {
         "title": {
          "text": "Objective Value"
         }
        }
       }
      }
     },
     "metadata": {},
     "output_type": "display_data"
    }
   ],
   "source": [
    "import optuna\n",
    "from sklearn.tree import DecisionTreeClassifier\n",
    "from sklearn.model_selection import cross_val_score\n",
    "from scipy.ndimage import gaussian_filter\n",
    "import numpy as np\n",
    "\n",
    "def reshape_x_with_gamma(X_set, sigma):\n",
    "    return np.array([gaussian_filter(sample.reshape(8, 8), sigma=sigma).flatten() for sample in X_set])\n",
    "\n",
    "def objective(trial):\n",
    "    max_depth = trial.suggest_int('max_depth', 1, 32)\n",
    "    min_samples_split = trial.suggest_int('min_samples_split', 2, 32)\n",
    "    min_samples_leaf = trial.suggest_int('min_samples_leaf', 1, 32)\n",
    "    sigma = trial.suggest_float('sigma', 0.01, 10, log=True)\n",
    "    \n",
    "    clf = DecisionTreeClassifier(\n",
    "        max_depth=max_depth, \n",
    "        min_samples_split=min_samples_split, \n",
    "        min_samples_leaf=min_samples_leaf,\n",
    "        random_state=42\n",
    "    )\n",
    "    X_train_smoothed = reshape_x_with_gamma(sigma=sigma, X_set=X_train)\n",
    "\n",
    "    score = cross_val_score(clf, X_train_smoothed, y_train, cv=5, scoring='accuracy').mean()\n",
    "    \n",
    "    return score\n",
    "\n",
    "\n",
    "study_with_filter = optuna.create_study(direction='maximize')  \n",
    "study_with_filter.optimize(\n",
    "    objective,\n",
    "    n_trials=50,\n",
    "    n_jobs=-1,\n",
    "    \n",
    "    )  \n",
    "\n",
    "\n",
    "\n",
    "visualization.plot_optimization_history(study_with_filter)"
   ]
  },
  {
   "cell_type": "code",
   "execution_count": 24,
   "metadata": {},
   "outputs": [
    {
     "data": {
      "image/png": "[encoded data removed]",
      "text/plain": [
       "<Figure size 640x480 with 2 Axes>"
      ]
     },
     "metadata": {},
     "output_type": "display_data"
    },
    {
     "name": "stdout",
     "output_type": "stream",
     "text": [
      "Optimized accuracy = 0.7861111111111111\n",
      "[0.96969697 0.71428571 0.60606061 0.85294118 0.82608696 0.80851064\n",
      " 0.85714286 0.94117647 0.56666667 0.675     ]\n"
     ]
    }
   ],
   "source": [
    "# Get the best parameters and train the final model\n",
    "best_sigma = study_with_filter.best_params['sigma']\n",
    "clf_params = {key: value for key, value in study_with_filter.best_params.items() if key !='sigma'}\n",
    "\n",
    "clf_optimized = DecisionTreeClassifier(**clf_params, random_state=42)\n",
    "clf_optimized.fit(X_train, y_train)\n",
    "\n",
    "# Make predictions with the optimized model\n",
    "preds = clf_optimized.predict(X_test)\n",
    "\n",
    "# Display the results\n",
    "conf_mat = sklearn.metrics.confusion_matrix(y_test, preds)\n",
    "conf = sklearn.metrics.ConfusionMatrixDisplay(conf_mat)\n",
    "conf.plot()\n",
    "plt.show()\n",
    "print(f'Optimized accuracy = {accuracy_score(y_test, preds)}')\n",
    "print(recall_score(y_test, preds, average=None))"
   ]
  },
  {
   "cell_type": "markdown",
   "metadata": {},
   "source": [
    "## Go To Slides"
   ]
  },
  {
   "cell_type": "markdown",
   "metadata": {},
   "source": [
    "## Exercise 1: Pick a wine (classifier)"
   ]
  },
  {
   "cell_type": "code",
   "execution_count": 25,
   "metadata": {},
   "outputs": [],
   "source": [
    "import numpy as np\n",
    "from sklearn.datasets import load_wine\n",
    "from sklearn.ensemble import RandomForestClassifier\n",
    "from sklearn.model_selection import train_test_split\n",
    "from sklearn.metrics import accuracy_score, classification_report\n",
    "\n",
    "data = load_wine()\n",
    "X = data.data\n",
    "y = data.target\n",
    "\n",
    "X_train, X_test, y_train, y_test = train_test_split(X, y, test_size=0.2, random_state=42)\n",
    "\n",
    "# We have to add noise again because otherwise it's too good out of the box, lol\n",
    "wine_noise_amount = 3\n",
    "X_train = X_train + np.random.normal(loc=0, scale=wine_noise_amount, size=X_train.shape)\n",
    "\n"
   ]
  },
  {
   "cell_type": "code",
   "execution_count": 26,
   "metadata": {},
   "outputs": [
    {
     "name": "stdout",
     "output_type": "stream",
     "text": [
      "Model Accuracy: 83.33%\n",
      "Classification Report:\n",
      "              precision    recall  f1-score   support\n",
      "\n",
      "           0       0.76      0.93      0.84        14\n",
      "           1       0.92      0.86      0.89        14\n",
      "           2       0.83      0.62      0.71         8\n",
      "\n",
      "    accuracy                           0.83        36\n",
      "   macro avg       0.84      0.80      0.81        36\n",
      "weighted avg       0.84      0.83      0.83        36\n",
      "\n"
     ]
    }
   ],
   "source": [
    "\n",
    "clf = RandomForestClassifier(n_estimators=4, random_state=42)\n",
    "\n",
    "clf.fit(X_train, y_train)\n",
    "\n",
    "y_pred = clf.predict(X_test)\n",
    "\n",
    "accuracy = accuracy_score(y_test, y_pred)\n",
    "print(f\"Model Accuracy: {accuracy * 100:.2f}%\")\n",
    "print(\"Classification Report:\")\n",
    "print(classification_report(y_test, y_pred))\n"
   ]
  },
  {
   "cell_type": "markdown",
   "metadata": {},
   "source": [
    "- create your objective function, which takes a `trial` object as input\n",
    "- fit the model inside the function\n",
    "- make sure you're returning the score which you want to optimise (pick one!)\n",
    "- Inside the objective function, use `trial.suggest_...` to create values for your hyperparameters\n",
    "- Here's some to try:\n",
    "  - `n_estimators` (number of decision trees in the 'forest')\n",
    "  - `max_depth` (depth of each tree in the forest)\n",
    "  - `min_samples_split` (number of training samples required to introduce a branch. A bit like the resolution / sensitivity of the model.)"
   ]
  },
  {
   "cell_type": "code",
   "execution_count": 27,
   "metadata": {},
   "outputs": [],
   "source": [
    "def objective_for_wine(trial):\n",
    "    pass #YOUR CODE HERE"
   ]
  },
  {
   "cell_type": "markdown",
   "metadata": {},
   "source": [
    "- Can you plot the study?\n",
    "- Did you run the trials in parallel?\n",
    "- Can you print the best params?"
   ]
  },
  {
   "cell_type": "markdown",
   "metadata": {},
   "source": []
  },
  {
   "cell_type": "code",
   "execution_count": 28,
   "metadata": {},
   "outputs": [
    {
     "ename": "ModuleNotFoundError",
     "evalue": "No module named 'tensorflow'",
     "output_type": "error",
     "traceback": [
      "\u001b[0;31m---------------------------------------------------------------------------\u001b[0m",
      "\u001b[0;31mModuleNotFoundError\u001b[0m                       Traceback (most recent call last)",
      "\u001b[1;32m/home/dgnhs/Documents/hyperparameter_workshop/main.ipynb Cell 25\u001b[0m line \u001b[0;36m1\n\u001b[1;32m      <a href='vscode-notebook-cell:/home/dgnhs/Documents/hyperparameter_workshop/main.ipynb#X33sZmlsZQ%3D%3D?line=5'>6</a>\u001b[0m \u001b[39mimport\u001b[39;00m \u001b[39mwarnings\u001b[39;00m\n\u001b[1;32m      <a href='vscode-notebook-cell:/home/dgnhs/Documents/hyperparameter_workshop/main.ipynb#X33sZmlsZQ%3D%3D?line=7'>8</a>\u001b[0m \u001b[39mimport\u001b[39;00m \u001b[39moptuna\u001b[39;00m\n\u001b[0;32m---> <a href='vscode-notebook-cell:/home/dgnhs/Documents/hyperparameter_workshop/main.ipynb#X33sZmlsZQ%3D%3D?line=9'>10</a>\u001b[0m \u001b[39mfrom\u001b[39;00m \u001b[39mkeras\u001b[39;00m\u001b[39m.\u001b[39;00m\u001b[39mbackend\u001b[39;00m \u001b[39mimport\u001b[39;00m clear_session\n\u001b[1;32m     <a href='vscode-notebook-cell:/home/dgnhs/Documents/hyperparameter_workshop/main.ipynb#X33sZmlsZQ%3D%3D?line=10'>11</a>\u001b[0m \u001b[39mfrom\u001b[39;00m \u001b[39mkeras\u001b[39;00m\u001b[39m.\u001b[39;00m\u001b[39mdatasets\u001b[39;00m \u001b[39mimport\u001b[39;00m mnist\n\u001b[1;32m     <a href='vscode-notebook-cell:/home/dgnhs/Documents/hyperparameter_workshop/main.ipynb#X33sZmlsZQ%3D%3D?line=11'>12</a>\u001b[0m \u001b[39mfrom\u001b[39;00m \u001b[39mkeras\u001b[39;00m\u001b[39m.\u001b[39;00m\u001b[39mlayers\u001b[39;00m \u001b[39mimport\u001b[39;00m Conv2D\n",
      "File \u001b[0;32m~/Documents/hyperparameter_workshop/.venv/lib/python3.9/site-packages/keras/__init__.py:3\u001b[0m\n\u001b[1;32m      1\u001b[0m \u001b[39m\"\"\"AUTOGENERATED. DO NOT EDIT.\"\"\"\u001b[39;00m\n\u001b[0;32m----> 3\u001b[0m \u001b[39mfrom\u001b[39;00m \u001b[39mkeras\u001b[39;00m \u001b[39mimport\u001b[39;00m __internal__\n\u001b[1;32m      4\u001b[0m \u001b[39mfrom\u001b[39;00m \u001b[39mkeras\u001b[39;00m \u001b[39mimport\u001b[39;00m activations\n\u001b[1;32m      5\u001b[0m \u001b[39mfrom\u001b[39;00m \u001b[39mkeras\u001b[39;00m \u001b[39mimport\u001b[39;00m applications\n",
      "File \u001b[0;32m~/Documents/hyperparameter_workshop/.venv/lib/python3.9/site-packages/keras/__internal__/__init__.py:3\u001b[0m\n\u001b[1;32m      1\u001b[0m \u001b[39m\"\"\"AUTOGENERATED. DO NOT EDIT.\"\"\"\u001b[39;00m\n\u001b[0;32m----> 3\u001b[0m \u001b[39mfrom\u001b[39;00m \u001b[39mkeras\u001b[39;00m\u001b[39m.\u001b[39;00m\u001b[39m__internal__\u001b[39;00m \u001b[39mimport\u001b[39;00m backend\n\u001b[1;32m      4\u001b[0m \u001b[39mfrom\u001b[39;00m \u001b[39mkeras\u001b[39;00m\u001b[39m.\u001b[39;00m\u001b[39m__internal__\u001b[39;00m \u001b[39mimport\u001b[39;00m layers\n\u001b[1;32m      5\u001b[0m \u001b[39mfrom\u001b[39;00m \u001b[39mkeras\u001b[39;00m\u001b[39m.\u001b[39;00m\u001b[39m__internal__\u001b[39;00m \u001b[39mimport\u001b[39;00m losses\n",
      "File \u001b[0;32m~/Documents/hyperparameter_workshop/.venv/lib/python3.9/site-packages/keras/__internal__/backend/__init__.py:3\u001b[0m\n\u001b[1;32m      1\u001b[0m \u001b[39m\"\"\"AUTOGENERATED. DO NOT EDIT.\"\"\"\u001b[39;00m\n\u001b[0;32m----> 3\u001b[0m \u001b[39mfrom\u001b[39;00m \u001b[39mkeras\u001b[39;00m\u001b[39m.\u001b[39;00m\u001b[39msrc\u001b[39;00m\u001b[39m.\u001b[39;00m\u001b[39mbackend\u001b[39;00m \u001b[39mimport\u001b[39;00m _initialize_variables \u001b[39mas\u001b[39;00m initialize_variables\n\u001b[1;32m      4\u001b[0m \u001b[39mfrom\u001b[39;00m \u001b[39mkeras\u001b[39;00m\u001b[39m.\u001b[39;00m\u001b[39msrc\u001b[39;00m\u001b[39m.\u001b[39;00m\u001b[39mbackend\u001b[39;00m \u001b[39mimport\u001b[39;00m track_variable\n",
      "File \u001b[0;32m~/Documents/hyperparameter_workshop/.venv/lib/python3.9/site-packages/keras/src/__init__.py:21\u001b[0m\n\u001b[1;32m     15\u001b[0m \u001b[39m\"\"\"Implementation of the Keras API, the high-level API of TensorFlow.\u001b[39;00m\n\u001b[1;32m     16\u001b[0m \n\u001b[1;32m     17\u001b[0m \u001b[39mDetailed documentation and user guides are available at\u001b[39;00m\n\u001b[1;32m     18\u001b[0m \u001b[39m[keras.io](https://keras.io).\u001b[39;00m\n\u001b[1;32m     19\u001b[0m \u001b[39m\"\"\"\u001b[39;00m\n\u001b[1;32m     20\u001b[0m \u001b[39mfrom\u001b[39;00m \u001b[39mkeras\u001b[39;00m\u001b[39m.\u001b[39;00m\u001b[39msrc\u001b[39;00m \u001b[39mimport\u001b[39;00m distribute\n\u001b[0;32m---> 21\u001b[0m \u001b[39mfrom\u001b[39;00m \u001b[39mkeras\u001b[39;00m\u001b[39m.\u001b[39;00m\u001b[39msrc\u001b[39;00m \u001b[39mimport\u001b[39;00m models\n\u001b[1;32m     22\u001b[0m \u001b[39mfrom\u001b[39;00m \u001b[39mkeras\u001b[39;00m\u001b[39m.\u001b[39;00m\u001b[39msrc\u001b[39;00m\u001b[39m.\u001b[39;00m\u001b[39mengine\u001b[39;00m\u001b[39m.\u001b[39;00m\u001b[39minput_layer\u001b[39;00m \u001b[39mimport\u001b[39;00m Input\n\u001b[1;32m     23\u001b[0m \u001b[39mfrom\u001b[39;00m \u001b[39mkeras\u001b[39;00m\u001b[39m.\u001b[39;00m\u001b[39msrc\u001b[39;00m\u001b[39m.\u001b[39;00m\u001b[39mengine\u001b[39;00m\u001b[39m.\u001b[39;00m\u001b[39msequential\u001b[39;00m \u001b[39mimport\u001b[39;00m Sequential\n",
      "File \u001b[0;32m~/Documents/hyperparameter_workshop/.venv/lib/python3.9/site-packages/keras/src/models/__init__.py:18\u001b[0m\n\u001b[1;32m      1\u001b[0m \u001b[39m# Copyright 2022 The TensorFlow Authors. All Rights Reserved.\u001b[39;00m\n\u001b[1;32m      2\u001b[0m \u001b[39m#\u001b[39;00m\n\u001b[1;32m      3\u001b[0m \u001b[39m# Licensed under the Apache License, Version 2.0 (the \"License\");\u001b[39;00m\n\u001b[0;32m   (...)\u001b[0m\n\u001b[1;32m     13\u001b[0m \u001b[39m# limitations under the License.\u001b[39;00m\n\u001b[1;32m     14\u001b[0m \u001b[39m# ==============================================================================\u001b[39;00m\n\u001b[1;32m     15\u001b[0m \u001b[39m\"\"\"Keras models API.\"\"\"\u001b[39;00m\n\u001b[0;32m---> 18\u001b[0m \u001b[39mfrom\u001b[39;00m \u001b[39mkeras\u001b[39;00m\u001b[39m.\u001b[39;00m\u001b[39msrc\u001b[39;00m\u001b[39m.\u001b[39;00m\u001b[39mengine\u001b[39;00m\u001b[39m.\u001b[39;00m\u001b[39mfunctional\u001b[39;00m \u001b[39mimport\u001b[39;00m Functional\n\u001b[1;32m     19\u001b[0m \u001b[39mfrom\u001b[39;00m \u001b[39mkeras\u001b[39;00m\u001b[39m.\u001b[39;00m\u001b[39msrc\u001b[39;00m\u001b[39m.\u001b[39;00m\u001b[39mengine\u001b[39;00m\u001b[39m.\u001b[39;00m\u001b[39msequential\u001b[39;00m \u001b[39mimport\u001b[39;00m Sequential\n\u001b[1;32m     20\u001b[0m \u001b[39mfrom\u001b[39;00m \u001b[39mkeras\u001b[39;00m\u001b[39m.\u001b[39;00m\u001b[39msrc\u001b[39;00m\u001b[39m.\u001b[39;00m\u001b[39mengine\u001b[39;00m\u001b[39m.\u001b[39;00m\u001b[39mtraining\u001b[39;00m \u001b[39mimport\u001b[39;00m Model\n",
      "File \u001b[0;32m~/Documents/hyperparameter_workshop/.venv/lib/python3.9/site-packages/keras/src/engine/functional.py:23\u001b[0m\n\u001b[1;32m     20\u001b[0m \u001b[39mimport\u001b[39;00m \u001b[39mitertools\u001b[39;00m\n\u001b[1;32m     21\u001b[0m \u001b[39mimport\u001b[39;00m \u001b[39mwarnings\u001b[39;00m\n\u001b[0;32m---> 23\u001b[0m \u001b[39mimport\u001b[39;00m \u001b[39mtensorflow\u001b[39;00m\u001b[39m.\u001b[39;00m\u001b[39mcompat\u001b[39;00m\u001b[39m.\u001b[39;00m\u001b[39mv2\u001b[39;00m \u001b[39mas\u001b[39;00m \u001b[39mtf\u001b[39;00m\n\u001b[1;32m     25\u001b[0m \u001b[39mfrom\u001b[39;00m \u001b[39mkeras\u001b[39;00m\u001b[39m.\u001b[39;00m\u001b[39msrc\u001b[39;00m \u001b[39mimport\u001b[39;00m backend\n\u001b[1;32m     26\u001b[0m \u001b[39mfrom\u001b[39;00m \u001b[39mkeras\u001b[39;00m\u001b[39m.\u001b[39;00m\u001b[39msrc\u001b[39;00m\u001b[39m.\u001b[39;00m\u001b[39mdtensor\u001b[39;00m \u001b[39mimport\u001b[39;00m layout_map \u001b[39mas\u001b[39;00m layout_map_lib\n",
      "\u001b[0;31mModuleNotFoundError\u001b[0m: No module named 'tensorflow'"
     ]
    }
   ],
   "source": [
    "\"\"\"\n",
    "CREDIT: This block is adapted from optuna_examples:\n",
    "https://github.com/optuna/optuna-examples/blob/main/keras/keras_simple.py\n",
    "\"\"\"\n",
    "import urllib\n",
    "import warnings\n",
    "\n",
    "import optuna\n",
    "\n",
    "from keras.backend import clear_session\n",
    "from keras.datasets import mnist\n",
    "from keras.layers import Conv2D\n",
    "from keras.layers import Dense\n",
    "from keras.layers import Flatten\n",
    "from keras.models import Sequential\n",
    "from tensorflow.keras.optimizers import RMSprop\n",
    "\n",
    "# Register a global custom opener to avoid HTTP Error 403: Forbidden when downloading MNIST.\n",
    "opener = urllib.request.build_opener()\n",
    "opener.addheaders = [(\"User-agent\", \"Mozilla/5.0\")]\n",
    "urllib.request.install_opener(opener)\n",
    "\n",
    "\n",
    "N_TRAIN_EXAMPLES = 3000\n",
    "N_VALID_EXAMPLES = 1000\n",
    "BATCHSIZE = 128\n",
    "CLASSES = 10\n",
    "EPOCHS = 10\n",
    "\n",
    "\n",
    "# Clear clutter from previous Keras session graphs.\n",
    "\n",
    "(x_train, y_train), (x_valid, y_valid) = mnist.load_data()\n",
    "img_x, img_y = x_train.shape[1], x_train.shape[2]\n",
    "x_train = x_train.reshape(-1, img_x, img_y, 1)[:N_TRAIN_EXAMPLES].astype(\"float32\") / 255\n",
    "x_valid = x_valid.reshape(-1, img_x, img_y, 1)[:N_VALID_EXAMPLES].astype(\"float32\") / 255\n",
    "y_train = y_train[:N_TRAIN_EXAMPLES]\n",
    "y_valid = y_valid[:N_VALID_EXAMPLES]\n",
    "input_shape = (img_x, img_y, 1)\n",
    "\n",
    "model = Sequential()\n",
    "model.add(\n",
    "    Conv2D(\n",
    "        filters=32, #Could be 32, 64, 128\n",
    "        kernel_size=3, #Could be 3, 5, ...\n",
    "        strides=1, #Could be 1, 2, ...\n",
    "        activation=\"linear\", #could be linear, relu, ... many others\n",
    "        input_shape=input_shape,\n",
    "    )\n",
    ")\n",
    "model.add(Flatten())\n",
    "model.add(Dense(CLASSES, activation=\"softmax\"))\n",
    "\n",
    "# We compile our model with a sampled learning rate.\n",
    "learning_rate = 1e-3 #Coul be from 1e-5 up to 1e-2\n",
    "model.compile(\n",
    "    loss=\"sparse_categorical_crossentropy\",\n",
    "    optimizer=RMSprop(learning_rate=learning_rate),\n",
    "    metrics=[\"accuracy\"],\n",
    ")\n",
    "\n",
    "model.fit(\n",
    "    x_train,\n",
    "    y_train,\n",
    "    validation_data=(x_valid, y_valid),\n",
    "    shuffle=True,\n",
    "    batch_size=BATCHSIZE,\n",
    "    epochs=EPOCHS,\n",
    "    verbose=False,\n",
    ")\n",
    "\n",
    "# Evaluate the model accuracy on the validation set.\n",
    "score = model.evaluate(x_valid, y_valid, verbose=0)\n",
    "print(score)\n"
   ]
  },
  {
   "cell_type": "markdown",
   "metadata": {},
   "source": [
    "- Can we optimise the hyperparameters above? \n",
    "- For a very-much-bonus exercise: can you optimise over the *number of convolution layers we're including?*"
   ]
  }
 ],
 "metadata": {
  "kernelspec": {
   "display_name": ".venv",
   "language": "python",
   "name": "python3"
  },
  "language_info": {
   "codemirror_mode": {
    "name": "ipython",
    "version": 3
   },
   "file_extension": ".py",
   "mimetype": "text/x-python",
   "name": "python",
   "nbconvert_exporter": "python",
   "pygments_lexer": "ipython3",
   "version": "3.9.13"
  },
  "orig_nbformat": 4
 },
 "nbformat": 4,
 "nbformat_minor": 2
}
